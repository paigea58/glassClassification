{
 "cells": [
  {
   "cell_type": "markdown",
   "id": "cb412c8a-b795-4ce6-9c58-dfb0df80d571",
   "metadata": {},
   "source": [
    "# 0. Functions and libraries"
   ]
  },
  {
   "cell_type": "code",
   "execution_count": 251,
   "id": "92c9c75b-6b9b-461a-b3ab-4a6ac0cf7fb9",
   "metadata": {},
   "outputs": [],
   "source": [
    "import numpy as np, pandas as pd, matplotlib.pyplot as plt\n",
    "from sklearn import preprocessing, metrics\n",
    "from sklearn.neighbors import KNeighborsClassifier"
   ]
  },
  {
   "cell_type": "code",
   "execution_count": 252,
   "id": "23038c46-0b9c-42d2-83f7-42ececb80dba",
   "metadata": {},
   "outputs": [],
   "source": [
    "# Confusion matrix display\n",
    "def confusion_matrix_dis(confusionMatrix):\n",
    "    cm_display = metrics.ConfusionMatrixDisplay(confusion_matrix = confusionMatrix, display_labels = ['1','2','3','5','6','7'])\n",
    "    cm_display.plot()\n",
    "    plt.show()\n",
    "\n",
    "# Display all metrics\n",
    "def metrics_values(actual,predicted):\n",
    "    Accuracy = metrics.accuracy_score(actual,predicted)\n",
    "    Precision = metrics.precision_score(actual,predicted, average = None)\n",
    "    #Sensitivity = metrics.recall_score(actual,predicted, pos_label = 'M')\n",
    "    #Specificity = metrics.recall_score(actual,predicted,pos_label = 'B')\n",
    "    #F_score = metrics.f1_score(actual,predicted, pos_label = 'M')\n",
    "    #print(\"Accuracy:\", round(Accuracy,3), \"\\nPrecision:\", round(Precision,3),\"\\nSensitivity:\", \n",
    "          #round(Sensitivity,3),\"\\nSpecificity:\", round(Specificity,3),\"\\nF1_score:\", round(F_score,3))\n",
    "    print(\"Accuracy:\", round(Accuracy,3))\n",
    "    print(\"Precision score by class:\", Precision)"
   ]
  },
  {
   "cell_type": "markdown",
   "id": "1390162c-bbe9-49b5-878f-b2fc7e2a9dc2",
   "metadata": {},
   "source": [
    "# 1. Data import"
   ]
  },
  {
   "cell_type": "code",
   "execution_count": 253,
   "id": "73fd785f-1d79-4d0d-9ee5-800d1b8e97a9",
   "metadata": {},
   "outputs": [
    {
     "data": {
      "text/html": [
       "<div>\n",
       "<style scoped>\n",
       "    .dataframe tbody tr th:only-of-type {\n",
       "        vertical-align: middle;\n",
       "    }\n",
       "\n",
       "    .dataframe tbody tr th {\n",
       "        vertical-align: top;\n",
       "    }\n",
       "\n",
       "    .dataframe thead th {\n",
       "        text-align: right;\n",
       "    }\n",
       "</style>\n",
       "<table border=\"1\" class=\"dataframe\">\n",
       "  <thead>\n",
       "    <tr style=\"text-align: right;\">\n",
       "      <th></th>\n",
       "      <th>ID</th>\n",
       "      <th>RI</th>\n",
       "      <th>NA2O</th>\n",
       "      <th>MGO</th>\n",
       "      <th>AL2O3</th>\n",
       "      <th>SIO2</th>\n",
       "      <th>K2O</th>\n",
       "      <th>CAO</th>\n",
       "      <th>BAO</th>\n",
       "      <th>FE2O3</th>\n",
       "      <th>TYPE</th>\n",
       "    </tr>\n",
       "  </thead>\n",
       "  <tbody>\n",
       "    <tr>\n",
       "      <th>0</th>\n",
       "      <td>1</td>\n",
       "      <td>1.52101</td>\n",
       "      <td>13.64</td>\n",
       "      <td>4.49</td>\n",
       "      <td>1.10</td>\n",
       "      <td>71.78</td>\n",
       "      <td>0.06</td>\n",
       "      <td>8.75</td>\n",
       "      <td>0.0</td>\n",
       "      <td>0.0</td>\n",
       "      <td>1</td>\n",
       "    </tr>\n",
       "    <tr>\n",
       "      <th>1</th>\n",
       "      <td>2</td>\n",
       "      <td>1.51761</td>\n",
       "      <td>13.89</td>\n",
       "      <td>3.60</td>\n",
       "      <td>1.36</td>\n",
       "      <td>72.73</td>\n",
       "      <td>0.48</td>\n",
       "      <td>7.83</td>\n",
       "      <td>0.0</td>\n",
       "      <td>0.0</td>\n",
       "      <td>1</td>\n",
       "    </tr>\n",
       "    <tr>\n",
       "      <th>2</th>\n",
       "      <td>3</td>\n",
       "      <td>1.51618</td>\n",
       "      <td>13.53</td>\n",
       "      <td>3.55</td>\n",
       "      <td>1.54</td>\n",
       "      <td>72.99</td>\n",
       "      <td>0.39</td>\n",
       "      <td>7.78</td>\n",
       "      <td>0.0</td>\n",
       "      <td>0.0</td>\n",
       "      <td>1</td>\n",
       "    </tr>\n",
       "    <tr>\n",
       "      <th>3</th>\n",
       "      <td>4</td>\n",
       "      <td>1.51766</td>\n",
       "      <td>13.21</td>\n",
       "      <td>3.69</td>\n",
       "      <td>1.29</td>\n",
       "      <td>72.61</td>\n",
       "      <td>0.57</td>\n",
       "      <td>8.22</td>\n",
       "      <td>0.0</td>\n",
       "      <td>0.0</td>\n",
       "      <td>1</td>\n",
       "    </tr>\n",
       "    <tr>\n",
       "      <th>4</th>\n",
       "      <td>5</td>\n",
       "      <td>1.51742</td>\n",
       "      <td>13.27</td>\n",
       "      <td>3.62</td>\n",
       "      <td>1.24</td>\n",
       "      <td>73.08</td>\n",
       "      <td>0.55</td>\n",
       "      <td>8.07</td>\n",
       "      <td>0.0</td>\n",
       "      <td>0.0</td>\n",
       "      <td>1</td>\n",
       "    </tr>\n",
       "  </tbody>\n",
       "</table>\n",
       "</div>"
      ],
      "text/plain": [
       "   ID       RI   NA2O   MGO  AL2O3   SIO2   K2O   CAO  BAO  FE2O3  TYPE\n",
       "0   1  1.52101  13.64  4.49   1.10  71.78  0.06  8.75  0.0    0.0     1\n",
       "1   2  1.51761  13.89  3.60   1.36  72.73  0.48  7.83  0.0    0.0     1\n",
       "2   3  1.51618  13.53  3.55   1.54  72.99  0.39  7.78  0.0    0.0     1\n",
       "3   4  1.51766  13.21  3.69   1.29  72.61  0.57  8.22  0.0    0.0     1\n",
       "4   5  1.51742  13.27  3.62   1.24  73.08  0.55  8.07  0.0    0.0     1"
      ]
     },
     "execution_count": 253,
     "metadata": {},
     "output_type": "execute_result"
    }
   ],
   "source": [
    "# Read in data file\n",
    "file_name = 'glass.data'\n",
    "glass = pd.read_csv(file_name, delimiter=',', \n",
    "                    header=None, names=['ID', 'RI', 'NA2O','MGO','AL2O3','SIO2','K2O','CAO',\n",
    "                                       'BAO','FE2O3','TYPE'])\n",
    "\n",
    "# Display contents\n",
    "glass.head()"
   ]
  },
  {
   "cell_type": "code",
   "execution_count": 254,
   "id": "9d9471da-e5b3-4098-b242-b5b264489c90",
   "metadata": {},
   "outputs": [
    {
     "name": "stdout",
     "output_type": "stream",
     "text": [
      "<class 'pandas.core.frame.DataFrame'>\n",
      "RangeIndex: 214 entries, 0 to 213\n",
      "Data columns (total 11 columns):\n",
      " #   Column  Non-Null Count  Dtype  \n",
      "---  ------  --------------  -----  \n",
      " 0   ID      214 non-null    int64  \n",
      " 1   RI      214 non-null    float64\n",
      " 2   NA2O    214 non-null    float64\n",
      " 3   MGO     214 non-null    float64\n",
      " 4   AL2O3   214 non-null    float64\n",
      " 5   SIO2    214 non-null    float64\n",
      " 6   K2O     214 non-null    float64\n",
      " 7   CAO     214 non-null    float64\n",
      " 8   BAO     214 non-null    float64\n",
      " 9   FE2O3   214 non-null    float64\n",
      " 10  TYPE    214 non-null    int64  \n",
      "dtypes: float64(9), int64(2)\n",
      "memory usage: 18.5 KB\n"
     ]
    }
   ],
   "source": [
    "# View data structure\n",
    "# 214 instances, 11 features\n",
    "glass.info()"
   ]
  },
  {
   "cell_type": "code",
   "execution_count": 255,
   "id": "e802c1e9-c3da-43ce-a5c6-22b99a874639",
   "metadata": {},
   "outputs": [
    {
     "data": {
      "text/html": [
       "<div>\n",
       "<style scoped>\n",
       "    .dataframe tbody tr th:only-of-type {\n",
       "        vertical-align: middle;\n",
       "    }\n",
       "\n",
       "    .dataframe tbody tr th {\n",
       "        vertical-align: top;\n",
       "    }\n",
       "\n",
       "    .dataframe thead th {\n",
       "        text-align: right;\n",
       "    }\n",
       "</style>\n",
       "<table border=\"1\" class=\"dataframe\">\n",
       "  <thead>\n",
       "    <tr style=\"text-align: right;\">\n",
       "      <th></th>\n",
       "      <th>RI</th>\n",
       "      <th>NA2O</th>\n",
       "      <th>MGO</th>\n",
       "      <th>AL2O3</th>\n",
       "      <th>SIO2</th>\n",
       "      <th>K2O</th>\n",
       "      <th>CAO</th>\n",
       "      <th>BAO</th>\n",
       "      <th>FE2O3</th>\n",
       "      <th>TYPE</th>\n",
       "    </tr>\n",
       "  </thead>\n",
       "  <tbody>\n",
       "    <tr>\n",
       "      <th>0</th>\n",
       "      <td>1.52101</td>\n",
       "      <td>13.64</td>\n",
       "      <td>4.49</td>\n",
       "      <td>1.10</td>\n",
       "      <td>71.78</td>\n",
       "      <td>0.06</td>\n",
       "      <td>8.75</td>\n",
       "      <td>0.0</td>\n",
       "      <td>0.0</td>\n",
       "      <td>1</td>\n",
       "    </tr>\n",
       "    <tr>\n",
       "      <th>1</th>\n",
       "      <td>1.51761</td>\n",
       "      <td>13.89</td>\n",
       "      <td>3.60</td>\n",
       "      <td>1.36</td>\n",
       "      <td>72.73</td>\n",
       "      <td>0.48</td>\n",
       "      <td>7.83</td>\n",
       "      <td>0.0</td>\n",
       "      <td>0.0</td>\n",
       "      <td>1</td>\n",
       "    </tr>\n",
       "    <tr>\n",
       "      <th>2</th>\n",
       "      <td>1.51618</td>\n",
       "      <td>13.53</td>\n",
       "      <td>3.55</td>\n",
       "      <td>1.54</td>\n",
       "      <td>72.99</td>\n",
       "      <td>0.39</td>\n",
       "      <td>7.78</td>\n",
       "      <td>0.0</td>\n",
       "      <td>0.0</td>\n",
       "      <td>1</td>\n",
       "    </tr>\n",
       "    <tr>\n",
       "      <th>3</th>\n",
       "      <td>1.51766</td>\n",
       "      <td>13.21</td>\n",
       "      <td>3.69</td>\n",
       "      <td>1.29</td>\n",
       "      <td>72.61</td>\n",
       "      <td>0.57</td>\n",
       "      <td>8.22</td>\n",
       "      <td>0.0</td>\n",
       "      <td>0.0</td>\n",
       "      <td>1</td>\n",
       "    </tr>\n",
       "    <tr>\n",
       "      <th>4</th>\n",
       "      <td>1.51742</td>\n",
       "      <td>13.27</td>\n",
       "      <td>3.62</td>\n",
       "      <td>1.24</td>\n",
       "      <td>73.08</td>\n",
       "      <td>0.55</td>\n",
       "      <td>8.07</td>\n",
       "      <td>0.0</td>\n",
       "      <td>0.0</td>\n",
       "      <td>1</td>\n",
       "    </tr>\n",
       "  </tbody>\n",
       "</table>\n",
       "</div>"
      ],
      "text/plain": [
       "        RI   NA2O   MGO  AL2O3   SIO2   K2O   CAO  BAO  FE2O3  TYPE\n",
       "0  1.52101  13.64  4.49   1.10  71.78  0.06  8.75  0.0    0.0     1\n",
       "1  1.51761  13.89  3.60   1.36  72.73  0.48  7.83  0.0    0.0     1\n",
       "2  1.51618  13.53  3.55   1.54  72.99  0.39  7.78  0.0    0.0     1\n",
       "3  1.51766  13.21  3.69   1.29  72.61  0.57  8.22  0.0    0.0     1\n",
       "4  1.51742  13.27  3.62   1.24  73.08  0.55  8.07  0.0    0.0     1"
      ]
     },
     "execution_count": 255,
     "metadata": {},
     "output_type": "execute_result"
    }
   ],
   "source": [
    "# Remove ID feature\n",
    "glass.drop('ID', axis = 1, inplace = True)\n",
    "glass.head()"
   ]
  },
  {
   "cell_type": "code",
   "execution_count": 256,
   "id": "3c0caff1-1259-4165-ac3f-f62dd6f738be",
   "metadata": {},
   "outputs": [
    {
     "data": {
      "text/plain": [
       "1    70\n",
       "2    76\n",
       "3    17\n",
       "5    13\n",
       "6     9\n",
       "7    29\n",
       "Name: TYPE, dtype: int64"
      ]
     },
     "execution_count": 256,
     "metadata": {},
     "output_type": "execute_result"
    }
   ],
   "source": [
    "# Count number of instances for each class\n",
    "glass.TYPE.value_counts().sort_index()"
   ]
  },
  {
   "cell_type": "code",
   "execution_count": 257,
   "id": "c0a609c4-17bb-4b83-9057-83d158d53f62",
   "metadata": {},
   "outputs": [
    {
     "data": {
      "text/plain": [
       "1    0.327103\n",
       "2    0.355140\n",
       "3    0.079439\n",
       "5    0.060748\n",
       "6    0.042056\n",
       "7    0.135514\n",
       "Name: TYPE, dtype: float64"
      ]
     },
     "execution_count": 257,
     "metadata": {},
     "output_type": "execute_result"
    }
   ],
   "source": [
    "# Show as percentage\n",
    "(glass.TYPE.value_counts()/glass.TYPE.count()).sort_index()"
   ]
  },
  {
   "cell_type": "code",
   "execution_count": 258,
   "id": "02295a67-5984-4650-8dce-04e7e168a6e7",
   "metadata": {},
   "outputs": [
    {
     "data": {
      "text/plain": [
       "dtype('int64')"
      ]
     },
     "execution_count": 258,
     "metadata": {},
     "output_type": "execute_result"
    }
   ],
   "source": [
    "# Check data type\n",
    "glass.TYPE.dtype"
   ]
  },
  {
   "cell_type": "code",
   "execution_count": 259,
   "id": "76bd24e2-d3a3-4629-bd75-71433fb734b1",
   "metadata": {},
   "outputs": [],
   "source": [
    "# Recode as categorical\n",
    "glass['TYPE'] = glass['TYPE'].astype('category')"
   ]
  },
  {
   "cell_type": "code",
   "execution_count": 260,
   "id": "274e2d3b-a44a-4517-8809-899e97bbc254",
   "metadata": {},
   "outputs": [
    {
     "data": {
      "text/plain": [
       "CategoricalDtype(categories=[1, 2, 3, 5, 6, 7], ordered=False)"
      ]
     },
     "execution_count": 260,
     "metadata": {},
     "output_type": "execute_result"
    }
   ],
   "source": [
    "# Confirm recode\n",
    "glass.TYPE.dtype"
   ]
  },
  {
   "cell_type": "code",
   "execution_count": 261,
   "id": "ba8dd345-8525-4e3a-9f81-56fd87e07c59",
   "metadata": {},
   "outputs": [
    {
     "name": "stdout",
     "output_type": "stream",
     "text": [
      "<class 'pandas.core.frame.DataFrame'>\n",
      "RangeIndex: 214 entries, 0 to 213\n",
      "Data columns (total 10 columns):\n",
      " #   Column  Non-Null Count  Dtype   \n",
      "---  ------  --------------  -----   \n",
      " 0   RI      214 non-null    float64 \n",
      " 1   NA2O    214 non-null    float64 \n",
      " 2   MGO     214 non-null    float64 \n",
      " 3   AL2O3   214 non-null    float64 \n",
      " 4   SIO2    214 non-null    float64 \n",
      " 5   K2O     214 non-null    float64 \n",
      " 6   CAO     214 non-null    float64 \n",
      " 7   BAO     214 non-null    float64 \n",
      " 8   FE2O3   214 non-null    float64 \n",
      " 9   TYPE    214 non-null    category\n",
      "dtypes: category(1), float64(9)\n",
      "memory usage: 15.6 KB\n"
     ]
    }
   ],
   "source": [
    "# Recheck structure\n",
    "glass.info()"
   ]
  },
  {
   "cell_type": "code",
   "execution_count": 262,
   "id": "8762cebc-9cfb-4a3e-888b-869fb7f82a7c",
   "metadata": {},
   "outputs": [
    {
     "data": {
      "text/html": [
       "<div>\n",
       "<style scoped>\n",
       "    .dataframe tbody tr th:only-of-type {\n",
       "        vertical-align: middle;\n",
       "    }\n",
       "\n",
       "    .dataframe tbody tr th {\n",
       "        vertical-align: top;\n",
       "    }\n",
       "\n",
       "    .dataframe thead th {\n",
       "        text-align: right;\n",
       "    }\n",
       "</style>\n",
       "<table border=\"1\" class=\"dataframe\">\n",
       "  <thead>\n",
       "    <tr style=\"text-align: right;\">\n",
       "      <th></th>\n",
       "      <th>RI</th>\n",
       "      <th>NA2O</th>\n",
       "      <th>MGO</th>\n",
       "      <th>AL2O3</th>\n",
       "      <th>SIO2</th>\n",
       "      <th>K2O</th>\n",
       "      <th>CAO</th>\n",
       "      <th>BAO</th>\n",
       "      <th>FE2O3</th>\n",
       "      <th>TYPE</th>\n",
       "    </tr>\n",
       "  </thead>\n",
       "  <tbody>\n",
       "    <tr>\n",
       "      <th>0</th>\n",
       "      <td>1.52101</td>\n",
       "      <td>13.64</td>\n",
       "      <td>4.49</td>\n",
       "      <td>1.10</td>\n",
       "      <td>71.78</td>\n",
       "      <td>0.06</td>\n",
       "      <td>8.75</td>\n",
       "      <td>0.0</td>\n",
       "      <td>0.0</td>\n",
       "      <td>1</td>\n",
       "    </tr>\n",
       "    <tr>\n",
       "      <th>1</th>\n",
       "      <td>1.51761</td>\n",
       "      <td>13.89</td>\n",
       "      <td>3.60</td>\n",
       "      <td>1.36</td>\n",
       "      <td>72.73</td>\n",
       "      <td>0.48</td>\n",
       "      <td>7.83</td>\n",
       "      <td>0.0</td>\n",
       "      <td>0.0</td>\n",
       "      <td>1</td>\n",
       "    </tr>\n",
       "    <tr>\n",
       "      <th>2</th>\n",
       "      <td>1.51618</td>\n",
       "      <td>13.53</td>\n",
       "      <td>3.55</td>\n",
       "      <td>1.54</td>\n",
       "      <td>72.99</td>\n",
       "      <td>0.39</td>\n",
       "      <td>7.78</td>\n",
       "      <td>0.0</td>\n",
       "      <td>0.0</td>\n",
       "      <td>1</td>\n",
       "    </tr>\n",
       "    <tr>\n",
       "      <th>3</th>\n",
       "      <td>1.51766</td>\n",
       "      <td>13.21</td>\n",
       "      <td>3.69</td>\n",
       "      <td>1.29</td>\n",
       "      <td>72.61</td>\n",
       "      <td>0.57</td>\n",
       "      <td>8.22</td>\n",
       "      <td>0.0</td>\n",
       "      <td>0.0</td>\n",
       "      <td>1</td>\n",
       "    </tr>\n",
       "    <tr>\n",
       "      <th>4</th>\n",
       "      <td>1.51742</td>\n",
       "      <td>13.27</td>\n",
       "      <td>3.62</td>\n",
       "      <td>1.24</td>\n",
       "      <td>73.08</td>\n",
       "      <td>0.55</td>\n",
       "      <td>8.07</td>\n",
       "      <td>0.0</td>\n",
       "      <td>0.0</td>\n",
       "      <td>1</td>\n",
       "    </tr>\n",
       "  </tbody>\n",
       "</table>\n",
       "</div>"
      ],
      "text/plain": [
       "        RI   NA2O   MGO  AL2O3   SIO2   K2O   CAO  BAO  FE2O3 TYPE\n",
       "0  1.52101  13.64  4.49   1.10  71.78  0.06  8.75  0.0    0.0    1\n",
       "1  1.51761  13.89  3.60   1.36  72.73  0.48  7.83  0.0    0.0    1\n",
       "2  1.51618  13.53  3.55   1.54  72.99  0.39  7.78  0.0    0.0    1\n",
       "3  1.51766  13.21  3.69   1.29  72.61  0.57  8.22  0.0    0.0    1\n",
       "4  1.51742  13.27  3.62   1.24  73.08  0.55  8.07  0.0    0.0    1"
      ]
     },
     "execution_count": 262,
     "metadata": {},
     "output_type": "execute_result"
    }
   ],
   "source": [
    "# Summary of numerical features\n",
    "glass.describe()\n",
    "glass.head()"
   ]
  },
  {
   "cell_type": "markdown",
   "id": "0d81e8f5-4761-4eba-9cef-ebdd9989a659",
   "metadata": {},
   "source": [
    "# 2. Data normalization"
   ]
  },
  {
   "cell_type": "code",
   "execution_count": 263,
   "id": "83330e12-6726-4b79-ade8-b08fc51391de",
   "metadata": {},
   "outputs": [
    {
     "data": {
      "text/html": [
       "<div>\n",
       "<style scoped>\n",
       "    .dataframe tbody tr th:only-of-type {\n",
       "        vertical-align: middle;\n",
       "    }\n",
       "\n",
       "    .dataframe tbody tr th {\n",
       "        vertical-align: top;\n",
       "    }\n",
       "\n",
       "    .dataframe thead th {\n",
       "        text-align: right;\n",
       "    }\n",
       "</style>\n",
       "<table border=\"1\" class=\"dataframe\">\n",
       "  <thead>\n",
       "    <tr style=\"text-align: right;\">\n",
       "      <th></th>\n",
       "      <th>RI</th>\n",
       "      <th>NA2O</th>\n",
       "      <th>MGO</th>\n",
       "      <th>AL2O3</th>\n",
       "      <th>SIO2</th>\n",
       "      <th>K2O</th>\n",
       "      <th>CAO</th>\n",
       "      <th>BAO</th>\n",
       "      <th>FE2O3</th>\n",
       "    </tr>\n",
       "  </thead>\n",
       "  <tbody>\n",
       "    <tr>\n",
       "      <th>0</th>\n",
       "      <td>0.432836</td>\n",
       "      <td>0.437594</td>\n",
       "      <td>1.000000</td>\n",
       "      <td>0.252336</td>\n",
       "      <td>0.351786</td>\n",
       "      <td>0.009662</td>\n",
       "      <td>0.308550</td>\n",
       "      <td>0.0</td>\n",
       "      <td>0.0</td>\n",
       "    </tr>\n",
       "    <tr>\n",
       "      <th>1</th>\n",
       "      <td>0.283582</td>\n",
       "      <td>0.475188</td>\n",
       "      <td>0.801782</td>\n",
       "      <td>0.333333</td>\n",
       "      <td>0.521429</td>\n",
       "      <td>0.077295</td>\n",
       "      <td>0.223048</td>\n",
       "      <td>0.0</td>\n",
       "      <td>0.0</td>\n",
       "    </tr>\n",
       "    <tr>\n",
       "      <th>2</th>\n",
       "      <td>0.220808</td>\n",
       "      <td>0.421053</td>\n",
       "      <td>0.790646</td>\n",
       "      <td>0.389408</td>\n",
       "      <td>0.567857</td>\n",
       "      <td>0.062802</td>\n",
       "      <td>0.218401</td>\n",
       "      <td>0.0</td>\n",
       "      <td>0.0</td>\n",
       "    </tr>\n",
       "    <tr>\n",
       "      <th>3</th>\n",
       "      <td>0.285777</td>\n",
       "      <td>0.372932</td>\n",
       "      <td>0.821826</td>\n",
       "      <td>0.311526</td>\n",
       "      <td>0.500000</td>\n",
       "      <td>0.091787</td>\n",
       "      <td>0.259294</td>\n",
       "      <td>0.0</td>\n",
       "      <td>0.0</td>\n",
       "    </tr>\n",
       "    <tr>\n",
       "      <th>4</th>\n",
       "      <td>0.275241</td>\n",
       "      <td>0.381955</td>\n",
       "      <td>0.806236</td>\n",
       "      <td>0.295950</td>\n",
       "      <td>0.583929</td>\n",
       "      <td>0.088567</td>\n",
       "      <td>0.245353</td>\n",
       "      <td>0.0</td>\n",
       "      <td>0.0</td>\n",
       "    </tr>\n",
       "  </tbody>\n",
       "</table>\n",
       "</div>"
      ],
      "text/plain": [
       "         RI      NA2O       MGO     AL2O3      SIO2       K2O       CAO  BAO  \\\n",
       "0  0.432836  0.437594  1.000000  0.252336  0.351786  0.009662  0.308550  0.0   \n",
       "1  0.283582  0.475188  0.801782  0.333333  0.521429  0.077295  0.223048  0.0   \n",
       "2  0.220808  0.421053  0.790646  0.389408  0.567857  0.062802  0.218401  0.0   \n",
       "3  0.285777  0.372932  0.821826  0.311526  0.500000  0.091787  0.259294  0.0   \n",
       "4  0.275241  0.381955  0.806236  0.295950  0.583929  0.088567  0.245353  0.0   \n",
       "\n",
       "   FE2O3  \n",
       "0    0.0  \n",
       "1    0.0  \n",
       "2    0.0  \n",
       "3    0.0  \n",
       "4    0.0  "
      ]
     },
     "execution_count": 263,
     "metadata": {},
     "output_type": "execute_result"
    }
   ],
   "source": [
    "# Normalize data\n",
    "glass_n = pd.DataFrame(preprocessing.minmax_scale(glass.iloc[:,:9]), columns=glass.columns[:9])\n",
    "\n",
    "glass_n.head()"
   ]
  },
  {
   "cell_type": "code",
   "execution_count": 264,
   "id": "74f2f0bb-f51b-4f63-8086-50ae343c993c",
   "metadata": {},
   "outputs": [
    {
     "data": {
      "text/html": [
       "<div>\n",
       "<style scoped>\n",
       "    .dataframe tbody tr th:only-of-type {\n",
       "        vertical-align: middle;\n",
       "    }\n",
       "\n",
       "    .dataframe tbody tr th {\n",
       "        vertical-align: top;\n",
       "    }\n",
       "\n",
       "    .dataframe thead th {\n",
       "        text-align: right;\n",
       "    }\n",
       "</style>\n",
       "<table border=\"1\" class=\"dataframe\">\n",
       "  <thead>\n",
       "    <tr style=\"text-align: right;\">\n",
       "      <th></th>\n",
       "      <th>RI</th>\n",
       "      <th>NA2O</th>\n",
       "      <th>MGO</th>\n",
       "      <th>AL2O3</th>\n",
       "      <th>SIO2</th>\n",
       "      <th>K2O</th>\n",
       "      <th>CAO</th>\n",
       "      <th>BAO</th>\n",
       "      <th>FE2O3</th>\n",
       "    </tr>\n",
       "  </thead>\n",
       "  <tbody>\n",
       "    <tr>\n",
       "      <th>count</th>\n",
       "      <td>214.000000</td>\n",
       "      <td>214.000000</td>\n",
       "      <td>214.000000</td>\n",
       "      <td>214.000000</td>\n",
       "      <td>214.000000</td>\n",
       "      <td>214.000000</td>\n",
       "      <td>214.000000</td>\n",
       "      <td>214.000000</td>\n",
       "      <td>214.000000</td>\n",
       "    </tr>\n",
       "    <tr>\n",
       "      <th>mean</th>\n",
       "      <td>0.316744</td>\n",
       "      <td>0.402684</td>\n",
       "      <td>0.597891</td>\n",
       "      <td>0.359784</td>\n",
       "      <td>0.507310</td>\n",
       "      <td>0.080041</td>\n",
       "      <td>0.327785</td>\n",
       "      <td>0.055570</td>\n",
       "      <td>0.111783</td>\n",
       "    </tr>\n",
       "    <tr>\n",
       "      <th>std</th>\n",
       "      <td>0.133313</td>\n",
       "      <td>0.122798</td>\n",
       "      <td>0.321249</td>\n",
       "      <td>0.155536</td>\n",
       "      <td>0.138312</td>\n",
       "      <td>0.105023</td>\n",
       "      <td>0.132263</td>\n",
       "      <td>0.157847</td>\n",
       "      <td>0.191056</td>\n",
       "    </tr>\n",
       "    <tr>\n",
       "      <th>min</th>\n",
       "      <td>0.000000</td>\n",
       "      <td>0.000000</td>\n",
       "      <td>0.000000</td>\n",
       "      <td>0.000000</td>\n",
       "      <td>0.000000</td>\n",
       "      <td>0.000000</td>\n",
       "      <td>0.000000</td>\n",
       "      <td>0.000000</td>\n",
       "      <td>0.000000</td>\n",
       "    </tr>\n",
       "    <tr>\n",
       "      <th>25%</th>\n",
       "      <td>0.235843</td>\n",
       "      <td>0.327444</td>\n",
       "      <td>0.471047</td>\n",
       "      <td>0.280374</td>\n",
       "      <td>0.441071</td>\n",
       "      <td>0.019726</td>\n",
       "      <td>0.261152</td>\n",
       "      <td>0.000000</td>\n",
       "      <td>0.000000</td>\n",
       "    </tr>\n",
       "    <tr>\n",
       "      <th>50%</th>\n",
       "      <td>0.286655</td>\n",
       "      <td>0.386466</td>\n",
       "      <td>0.775056</td>\n",
       "      <td>0.333333</td>\n",
       "      <td>0.532143</td>\n",
       "      <td>0.089372</td>\n",
       "      <td>0.294610</td>\n",
       "      <td>0.000000</td>\n",
       "      <td>0.000000</td>\n",
       "    </tr>\n",
       "    <tr>\n",
       "      <th>75%</th>\n",
       "      <td>0.351514</td>\n",
       "      <td>0.465414</td>\n",
       "      <td>0.801782</td>\n",
       "      <td>0.417445</td>\n",
       "      <td>0.585268</td>\n",
       "      <td>0.098229</td>\n",
       "      <td>0.347816</td>\n",
       "      <td>0.000000</td>\n",
       "      <td>0.196078</td>\n",
       "    </tr>\n",
       "    <tr>\n",
       "      <th>max</th>\n",
       "      <td>1.000000</td>\n",
       "      <td>1.000000</td>\n",
       "      <td>1.000000</td>\n",
       "      <td>1.000000</td>\n",
       "      <td>1.000000</td>\n",
       "      <td>1.000000</td>\n",
       "      <td>1.000000</td>\n",
       "      <td>1.000000</td>\n",
       "      <td>1.000000</td>\n",
       "    </tr>\n",
       "  </tbody>\n",
       "</table>\n",
       "</div>"
      ],
      "text/plain": [
       "               RI        NA2O         MGO       AL2O3        SIO2         K2O  \\\n",
       "count  214.000000  214.000000  214.000000  214.000000  214.000000  214.000000   \n",
       "mean     0.316744    0.402684    0.597891    0.359784    0.507310    0.080041   \n",
       "std      0.133313    0.122798    0.321249    0.155536    0.138312    0.105023   \n",
       "min      0.000000    0.000000    0.000000    0.000000    0.000000    0.000000   \n",
       "25%      0.235843    0.327444    0.471047    0.280374    0.441071    0.019726   \n",
       "50%      0.286655    0.386466    0.775056    0.333333    0.532143    0.089372   \n",
       "75%      0.351514    0.465414    0.801782    0.417445    0.585268    0.098229   \n",
       "max      1.000000    1.000000    1.000000    1.000000    1.000000    1.000000   \n",
       "\n",
       "              CAO         BAO       FE2O3  \n",
       "count  214.000000  214.000000  214.000000  \n",
       "mean     0.327785    0.055570    0.111783  \n",
       "std      0.132263    0.157847    0.191056  \n",
       "min      0.000000    0.000000    0.000000  \n",
       "25%      0.261152    0.000000    0.000000  \n",
       "50%      0.294610    0.000000    0.000000  \n",
       "75%      0.347816    0.000000    0.196078  \n",
       "max      1.000000    1.000000    1.000000  "
      ]
     },
     "execution_count": 264,
     "metadata": {},
     "output_type": "execute_result"
    }
   ],
   "source": [
    "# Verify normalization\n",
    "glass_n.describe()"
   ]
  },
  {
   "cell_type": "markdown",
   "id": "2d1edb5c-1b39-4030-95bb-0151dcdcb101",
   "metadata": {},
   "source": [
    "### 3. Train a model on the data"
   ]
  },
  {
   "cell_type": "code",
   "execution_count": 265,
   "id": "6310dd9e-050e-4d42-b248-25f8ab172b03",
   "metadata": {},
   "outputs": [],
   "source": [
    "# Sample size of 80%\n",
    "train_N = int(np.floor(glass.shape[0] * .8))"
   ]
  },
  {
   "cell_type": "code",
   "execution_count": 266,
   "id": "b9f4bee8-427b-4e28-adb3-da322db94964",
   "metadata": {},
   "outputs": [
    {
     "name": "stdout",
     "output_type": "stream",
     "text": [
      "<class 'pandas.core.frame.DataFrame'>\n",
      "Int64Index: 171 entries, 192 to 70\n",
      "Data columns (total 10 columns):\n",
      " #   Column  Non-Null Count  Dtype   \n",
      "---  ------  --------------  -----   \n",
      " 0   RI      171 non-null    float64 \n",
      " 1   NA2O    171 non-null    float64 \n",
      " 2   MGO     171 non-null    float64 \n",
      " 3   AL2O3   171 non-null    float64 \n",
      " 4   SIO2    171 non-null    float64 \n",
      " 5   K2O     171 non-null    float64 \n",
      " 6   CAO     171 non-null    float64 \n",
      " 7   BAO     171 non-null    float64 \n",
      " 8   FE2O3   171 non-null    float64 \n",
      " 9   TYPE    171 non-null    category\n",
      "dtypes: category(1), float64(9)\n",
      "memory usage: 13.7 KB\n",
      "<class 'pandas.core.frame.DataFrame'>\n",
      "Int64Index: 43 entries, 1 to 212\n",
      "Data columns (total 10 columns):\n",
      " #   Column  Non-Null Count  Dtype   \n",
      "---  ------  --------------  -----   \n",
      " 0   RI      43 non-null     float64 \n",
      " 1   NA2O    43 non-null     float64 \n",
      " 2   MGO     43 non-null     float64 \n",
      " 3   AL2O3   43 non-null     float64 \n",
      " 4   SIO2    43 non-null     float64 \n",
      " 5   K2O     43 non-null     float64 \n",
      " 6   CAO     43 non-null     float64 \n",
      " 7   BAO     43 non-null     float64 \n",
      " 8   FE2O3   43 non-null     float64 \n",
      " 9   TYPE    43 non-null     category\n",
      "dtypes: category(1), float64(9)\n",
      "memory usage: 3.6 KB\n"
     ]
    }
   ],
   "source": [
    "# Training set\n",
    "glass_train_n = glass.sample(n=train_N)\n",
    "\n",
    "# Get indices of the randomly selected rows\n",
    "random_indices = glass_train_n.index\n",
    "\n",
    "# Create a data frame excluding the randomly selected rows (test set)\n",
    "glass_test_n  = glass.drop(random_indices)\n",
    "\n",
    "glass_train_n.info()\n",
    "glass_test_n.info()"
   ]
  },
  {
   "cell_type": "code",
   "execution_count": 267,
   "id": "0feabe7d-dd7e-4115-8390-40118a5c5c17",
   "metadata": {},
   "outputs": [],
   "source": [
    "# Training and test set labels\n",
    "glass_train_labels = glass_train_n.iloc[:, -1]\n",
    "glass_test_labels = glass_test_n.iloc[:, -1]"
   ]
  },
  {
   "cell_type": "code",
   "execution_count": 268,
   "id": "6082650f-7005-44e5-8454-b1fca0045b68",
   "metadata": {},
   "outputs": [],
   "source": [
    "# Set KNN alg, start with k = 13 sqrt(instances)\n",
    "k = int(np.floor(np.sqrt(train_N)))\n",
    "knn = KNeighborsClassifier(n_neighbors=k)"
   ]
  },
  {
   "cell_type": "code",
   "execution_count": 269,
   "id": "84bda83c-c7cd-4ef5-8ef9-fb0ff1e4f37b",
   "metadata": {},
   "outputs": [
    {
     "data": {
      "text/plain": [
       "KNeighborsClassifier(n_neighbors=13)"
      ]
     },
     "execution_count": 269,
     "metadata": {},
     "output_type": "execute_result"
    }
   ],
   "source": [
    "# Train model\n",
    "knn.fit(glass_train_n, glass_train_labels)"
   ]
  },
  {
   "cell_type": "code",
   "execution_count": 270,
   "id": "aed970a9-8437-4c46-b9e0-15d14b15a3ab",
   "metadata": {},
   "outputs": [],
   "source": [
    "# Predict test set\n",
    "glass_test_pred = knn.predict(glass_test_n)"
   ]
  },
  {
   "cell_type": "markdown",
   "id": "4e5e6af5-010e-4389-8519-4c710b5ba3ff",
   "metadata": {},
   "source": [
    "#### 4. Model evaluation"
   ]
  },
  {
   "cell_type": "code",
   "execution_count": 271,
   "id": "608b6b7b-1904-4681-8d06-3b869a1eb456",
   "metadata": {},
   "outputs": [
    {
     "data": {
      "image/png": "[encoded data removed]",
      "text/plain": [
       "<Figure size 432x288 with 2 Axes>"
      ]
     },
     "metadata": {
      "needs_background": "light"
     },
     "output_type": "display_data"
    },
    {
     "name": "stdout",
     "output_type": "stream",
     "text": [
      "Accuracy: 0.977\n",
      "Precision score by class: [0.9375 1.     1.     1.     1.     1.    ]\n"
     ]
    }
   ],
   "source": [
    "confusion_matrix = metrics.confusion_matrix(glass_test_labels, glass_test_pred)\n",
    "confusion_matrix_dis(confusion_matrix)\n",
    "metrics_values(glass_test_labels, glass_test_pred)"
   ]
  },
  {
   "cell_type": "markdown",
   "id": "b76962d4-4768-4797-a41b-9978b312e7ff",
   "metadata": {},
   "source": [
    "# 5. Improve performance"
   ]
  },
  {
   "cell_type": "code",
   "execution_count": 272,
   "id": "105fa99f-e198-4a37-835b-16d31d34999f",
   "metadata": {},
   "outputs": [],
   "source": [
    "## Try different k values and check accuracy/precision"
   ]
  },
  {
   "cell_type": "code",
   "execution_count": 273,
   "id": "d2f51d5e-a3eb-4d8e-a0e4-d9466b76dd9d",
   "metadata": {},
   "outputs": [
    {
     "name": "stdout",
     "output_type": "stream",
     "text": [
      "k =  1\n"
     ]
    },
    {
     "data": {
      "image/png": "[encoded data removed]",
      "text/plain": [
       "<Figure size 432x288 with 2 Axes>"
      ]
     },
     "metadata": {
      "needs_background": "light"
     },
     "output_type": "display_data"
    },
    {
     "name": "stdout",
     "output_type": "stream",
     "text": [
      "Accuracy: 0.977\n",
      "Precision score by class: [1.  1.  1.  1.  0.5 1. ]\n",
      "**************************************************\n",
      "k =  5\n"
     ]
    },
    {
     "data": {
      "image/png": "[encoded data removed]",
      "text/plain": [
       "<Figure size 432x288 with 2 Axes>"
      ]
     },
     "metadata": {
      "needs_background": "light"
     },
     "output_type": "display_data"
    },
    {
     "name": "stdout",
     "output_type": "stream",
     "text": [
      "Accuracy: 0.93\n",
      "Precision score by class: [0.9375     1.         1.         1.         0.33333333 1.        ]\n",
      "**************************************************\n",
      "k =  11\n"
     ]
    },
    {
     "data": {
      "image/png": "[encoded data removed]",
      "text/plain": [
       "<Figure size 432x288 with 2 Axes>"
      ]
     },
     "metadata": {
      "needs_background": "light"
     },
     "output_type": "display_data"
    },
    {
     "name": "stdout",
     "output_type": "stream",
     "text": [
      "Accuracy: 0.93\n",
      "Precision score by class: [0.9375     1.         1.         1.         0.33333333 1.        ]\n",
      "**************************************************\n",
      "k =  15\n"
     ]
    },
    {
     "data": {
      "image/png": "[encoded data removed]",
      "text/plain": [
       "<Figure size 432x288 with 2 Axes>"
      ]
     },
     "metadata": {
      "needs_background": "light"
     },
     "output_type": "display_data"
    },
    {
     "name": "stdout",
     "output_type": "stream",
     "text": [
      "Accuracy: 0.93\n",
      "Precision score by class: [0.9375 1.     1.     1.     0.     0.6   ]\n",
      "**************************************************\n",
      "k =  21\n"
     ]
    },
    {
     "name": "stderr",
     "output_type": "stream",
     "text": [
      "/opt/anaconda3/lib/python3.8/site-packages/sklearn/metrics/_classification.py:1245: UndefinedMetricWarning: Precision is ill-defined and being set to 0.0 in labels with no predicted samples. Use `zero_division` parameter to control this behavior.\n",
      "  _warn_prf(average, modifier, msg_start, len(result))\n"
     ]
    },
    {
     "data": {
      "image/png": "[encoded data removed]",
      "text/plain": [
       "<Figure size 432x288 with 2 Axes>"
      ]
     },
     "metadata": {
      "needs_background": "light"
     },
     "output_type": "display_data"
    },
    {
     "name": "stderr",
     "output_type": "stream",
     "text": [
      "/opt/anaconda3/lib/python3.8/site-packages/sklearn/metrics/_classification.py:1245: UndefinedMetricWarning: Precision is ill-defined and being set to 0.0 in labels with no predicted samples. Use `zero_division` parameter to control this behavior.\n",
      "  _warn_prf(average, modifier, msg_start, len(result))\n"
     ]
    },
    {
     "name": "stdout",
     "output_type": "stream",
     "text": [
      "Accuracy: 0.837\n",
      "Precision score by class: [0.9375     0.84210526 1.         0.         0.         0.5       ]\n",
      "**************************************************\n",
      "k =  27\n"
     ]
    },
    {
     "data": {
      "image/png": "[encoded data removed]",
      "text/plain": [
       "<Figure size 432x288 with 2 Axes>"
      ]
     },
     "metadata": {
      "needs_background": "light"
     },
     "output_type": "display_data"
    },
    {
     "name": "stdout",
     "output_type": "stream",
     "text": [
      "Accuracy: 0.791\n",
      "Precision score by class: [0.9375     0.8        0.         0.         0.         0.42857143]\n",
      "**************************************************\n"
     ]
    },
    {
     "name": "stderr",
     "output_type": "stream",
     "text": [
      "/opt/anaconda3/lib/python3.8/site-packages/sklearn/metrics/_classification.py:1245: UndefinedMetricWarning: Precision is ill-defined and being set to 0.0 in labels with no predicted samples. Use `zero_division` parameter to control this behavior.\n",
      "  _warn_prf(average, modifier, msg_start, len(result))\n"
     ]
    }
   ],
   "source": [
    "# Set of k's to train/test\n",
    "kList = [1, 5, 11, 15, 21, 27]\n",
    "\n",
    "# Loop through all k's and display confusion matrix and metrics\n",
    "for k in kList:\n",
    "    knn = KNeighborsClassifier(n_neighbors=k)\n",
    "    knn.fit(glass_train_n, glass_train_labels)\n",
    "    glass_test_pred = knn.predict(glass_test_n)\n",
    "    print(\"k = \", k)\n",
    "    confusion_matrix = metrics.confusion_matrix(glass_test_labels, glass_test_pred)\n",
    "    confusion_matrix_dis(confusion_matrix)\n",
    "    metrics_values(glass_test_labels, glass_test_pred)\n",
    "    print(\"**************************************************\")"
   ]
  },
  {
   "cell_type": "code",
   "execution_count": null,
   "id": "86da5b2d-580c-4356-bbd3-c2892c528c02",
   "metadata": {},
   "outputs": [],
   "source": []
  }
 ],
 "metadata": {
  "kernelspec": {
   "display_name": "homebrew-python",
   "language": "python",
   "name": "homebrew-python"
  },
  "language_info": {
   "codemirror_mode": {
    "name": "ipython",
    "version": 3
   },
   "file_extension": ".py",
   "mimetype": "text/x-python",
   "name": "python",
   "nbconvert_exporter": "python",
   "pygments_lexer": "ipython3",
   "version": "3.8.8"
  }
 },
 "nbformat": 4,
 "nbformat_minor": 5
}
