{
 "cells": [
  {
   "cell_type": "markdown",
   "id": "cb412c8a-b795-4ce6-9c58-dfb0df80d571",
   "metadata": {},
   "source": [
    "# 0. Functions and libraries"
   ]
  },
  {
   "cell_type": "code",
   "execution_count": 2,
   "id": "92c9c75b-6b9b-461a-b3ab-4a6ac0cf7fb9",
   "metadata": {},
   "outputs": [],
   "source": [
    "import numpy as np, pandas as pd, matplotlib.pyplot as plt\n",
    "from sklearn import preprocessing, metrics\n",
    "from sklearn.neighbors import KNeighborsClassifier"
   ]
  },
  {
   "cell_type": "code",
   "execution_count": 3,
   "id": "23038c46-0b9c-42d2-83f7-42ececb80dba",
   "metadata": {},
   "outputs": [],
   "source": [
    "# Confusion matrix display\n",
    "def confusion_matrix_dis(confusionMatrix):\n",
    "    cm_display = metrics.ConfusionMatrixDisplay(confusion_matrix = confusionMatrix, display_labels = [False,True])\n",
    "    cm_display.plot()\n",
    "    plt.show()\n",
    "\n",
    "# Display all metrics\n",
    "def metrics_values(actual,predicted):\n",
    "    Accuracy = metrics.accuracy_score(actual,predicted)\n",
    "    Precision = metrics.precision_score(actual,predicted, pos_label = 'M')\n",
    "    Sensitivity = metrics.recall_score(actual,predicted, pos_label = 'M')\n",
    "    Specificity = metrics.recall_score(actual,predicted,pos_label = 'B')\n",
    "    F_score = metrics.f1_score(actual,predicted, pos_label = 'M')\n",
    "    print(\"Accuracy:\", round(Accuracy,3), \"\\nPrecision:\", round(Precision,3),\"\\nSensitivity:\", \n",
    "          round(Sensitivity,3),\"\\nSpecificity:\", round(Specificity,3),\"\\nF1_score:\", round(F_score,3))"
   ]
  },
  {
   "cell_type": "markdown",
   "id": "1390162c-bbe9-49b5-878f-b2fc7e2a9dc2",
   "metadata": {},
   "source": [
    "# 1. Data import"
   ]
  },
  {
   "cell_type": "code",
   "execution_count": 11,
   "id": "73fd785f-1d79-4d0d-9ee5-800d1b8e97a9",
   "metadata": {},
   "outputs": [
    {
     "data": {
      "text/html": [
       "<div>\n",
       "<style scoped>\n",
       "    .dataframe tbody tr th:only-of-type {\n",
       "        vertical-align: middle;\n",
       "    }\n",
       "\n",
       "    .dataframe tbody tr th {\n",
       "        vertical-align: top;\n",
       "    }\n",
       "\n",
       "    .dataframe thead th {\n",
       "        text-align: right;\n",
       "    }\n",
       "</style>\n",
       "<table border=\"1\" class=\"dataframe\">\n",
       "  <thead>\n",
       "    <tr style=\"text-align: right;\">\n",
       "      <th></th>\n",
       "      <th>ID</th>\n",
       "      <th>RI</th>\n",
       "      <th>NA2O</th>\n",
       "      <th>MGO</th>\n",
       "      <th>AL2O3</th>\n",
       "      <th>SIO2</th>\n",
       "      <th>K2O</th>\n",
       "      <th>CAO</th>\n",
       "      <th>BAO</th>\n",
       "      <th>FE2O3</th>\n",
       "      <th>TYPE</th>\n",
       "    </tr>\n",
       "  </thead>\n",
       "  <tbody>\n",
       "    <tr>\n",
       "      <th>0</th>\n",
       "      <td>1</td>\n",
       "      <td>1.52101</td>\n",
       "      <td>13.64</td>\n",
       "      <td>4.49</td>\n",
       "      <td>1.10</td>\n",
       "      <td>71.78</td>\n",
       "      <td>0.06</td>\n",
       "      <td>8.75</td>\n",
       "      <td>0.0</td>\n",
       "      <td>0.0</td>\n",
       "      <td>1</td>\n",
       "    </tr>\n",
       "    <tr>\n",
       "      <th>1</th>\n",
       "      <td>2</td>\n",
       "      <td>1.51761</td>\n",
       "      <td>13.89</td>\n",
       "      <td>3.60</td>\n",
       "      <td>1.36</td>\n",
       "      <td>72.73</td>\n",
       "      <td>0.48</td>\n",
       "      <td>7.83</td>\n",
       "      <td>0.0</td>\n",
       "      <td>0.0</td>\n",
       "      <td>1</td>\n",
       "    </tr>\n",
       "    <tr>\n",
       "      <th>2</th>\n",
       "      <td>3</td>\n",
       "      <td>1.51618</td>\n",
       "      <td>13.53</td>\n",
       "      <td>3.55</td>\n",
       "      <td>1.54</td>\n",
       "      <td>72.99</td>\n",
       "      <td>0.39</td>\n",
       "      <td>7.78</td>\n",
       "      <td>0.0</td>\n",
       "      <td>0.0</td>\n",
       "      <td>1</td>\n",
       "    </tr>\n",
       "    <tr>\n",
       "      <th>3</th>\n",
       "      <td>4</td>\n",
       "      <td>1.51766</td>\n",
       "      <td>13.21</td>\n",
       "      <td>3.69</td>\n",
       "      <td>1.29</td>\n",
       "      <td>72.61</td>\n",
       "      <td>0.57</td>\n",
       "      <td>8.22</td>\n",
       "      <td>0.0</td>\n",
       "      <td>0.0</td>\n",
       "      <td>1</td>\n",
       "    </tr>\n",
       "    <tr>\n",
       "      <th>4</th>\n",
       "      <td>5</td>\n",
       "      <td>1.51742</td>\n",
       "      <td>13.27</td>\n",
       "      <td>3.62</td>\n",
       "      <td>1.24</td>\n",
       "      <td>73.08</td>\n",
       "      <td>0.55</td>\n",
       "      <td>8.07</td>\n",
       "      <td>0.0</td>\n",
       "      <td>0.0</td>\n",
       "      <td>1</td>\n",
       "    </tr>\n",
       "  </tbody>\n",
       "</table>\n",
       "</div>"
      ],
      "text/plain": [
       "   ID       RI   NA2O   MGO  AL2O3   SIO2   K2O   CAO  BAO  FE2O3  TYPE\n",
       "0   1  1.52101  13.64  4.49   1.10  71.78  0.06  8.75  0.0    0.0     1\n",
       "1   2  1.51761  13.89  3.60   1.36  72.73  0.48  7.83  0.0    0.0     1\n",
       "2   3  1.51618  13.53  3.55   1.54  72.99  0.39  7.78  0.0    0.0     1\n",
       "3   4  1.51766  13.21  3.69   1.29  72.61  0.57  8.22  0.0    0.0     1\n",
       "4   5  1.51742  13.27  3.62   1.24  73.08  0.55  8.07  0.0    0.0     1"
      ]
     },
     "execution_count": 11,
     "metadata": {},
     "output_type": "execute_result"
    }
   ],
   "source": [
    "# Read in data file\n",
    "file_name = 'glass.data'\n",
    "glass = pd.read_csv(file_name, delimiter=',', \n",
    "                    header=None, names=['ID', 'RI', 'NA2O','MGO','AL2O3','SIO2','K2O','CAO',\n",
    "                                       'BAO','FE2O3','TYPE'])\n",
    "\n",
    "# Display contents\n",
    "glass.head()"
   ]
  },
  {
   "cell_type": "code",
   "execution_count": 12,
   "id": "9d9471da-e5b3-4098-b242-b5b264489c90",
   "metadata": {},
   "outputs": [
    {
     "name": "stdout",
     "output_type": "stream",
     "text": [
      "<class 'pandas.core.frame.DataFrame'>\n",
      "RangeIndex: 214 entries, 0 to 213\n",
      "Data columns (total 11 columns):\n",
      " #   Column  Non-Null Count  Dtype  \n",
      "---  ------  --------------  -----  \n",
      " 0   ID      214 non-null    int64  \n",
      " 1   RI      214 non-null    float64\n",
      " 2   NA2O    214 non-null    float64\n",
      " 3   MGO     214 non-null    float64\n",
      " 4   AL2O3   214 non-null    float64\n",
      " 5   SIO2    214 non-null    float64\n",
      " 6   K2O     214 non-null    float64\n",
      " 7   CAO     214 non-null    float64\n",
      " 8   BAO     214 non-null    float64\n",
      " 9   FE2O3   214 non-null    float64\n",
      " 10  TYPE    214 non-null    int64  \n",
      "dtypes: float64(9), int64(2)\n",
      "memory usage: 18.5 KB\n"
     ]
    }
   ],
   "source": [
    "# View data structure\n",
    "# 214 instances, 11 features\n",
    "glass.info()"
   ]
  },
  {
   "cell_type": "code",
   "execution_count": 13,
   "id": "e802c1e9-c3da-43ce-a5c6-22b99a874639",
   "metadata": {},
   "outputs": [
    {
     "data": {
      "text/html": [
       "<div>\n",
       "<style scoped>\n",
       "    .dataframe tbody tr th:only-of-type {\n",
       "        vertical-align: middle;\n",
       "    }\n",
       "\n",
       "    .dataframe tbody tr th {\n",
       "        vertical-align: top;\n",
       "    }\n",
       "\n",
       "    .dataframe thead th {\n",
       "        text-align: right;\n",
       "    }\n",
       "</style>\n",
       "<table border=\"1\" class=\"dataframe\">\n",
       "  <thead>\n",
       "    <tr style=\"text-align: right;\">\n",
       "      <th></th>\n",
       "      <th>RI</th>\n",
       "      <th>NA2O</th>\n",
       "      <th>MGO</th>\n",
       "      <th>AL2O3</th>\n",
       "      <th>SIO2</th>\n",
       "      <th>K2O</th>\n",
       "      <th>CAO</th>\n",
       "      <th>BAO</th>\n",
       "      <th>FE2O3</th>\n",
       "      <th>TYPE</th>\n",
       "    </tr>\n",
       "  </thead>\n",
       "  <tbody>\n",
       "    <tr>\n",
       "      <th>0</th>\n",
       "      <td>1.52101</td>\n",
       "      <td>13.64</td>\n",
       "      <td>4.49</td>\n",
       "      <td>1.10</td>\n",
       "      <td>71.78</td>\n",
       "      <td>0.06</td>\n",
       "      <td>8.75</td>\n",
       "      <td>0.0</td>\n",
       "      <td>0.0</td>\n",
       "      <td>1</td>\n",
       "    </tr>\n",
       "    <tr>\n",
       "      <th>1</th>\n",
       "      <td>1.51761</td>\n",
       "      <td>13.89</td>\n",
       "      <td>3.60</td>\n",
       "      <td>1.36</td>\n",
       "      <td>72.73</td>\n",
       "      <td>0.48</td>\n",
       "      <td>7.83</td>\n",
       "      <td>0.0</td>\n",
       "      <td>0.0</td>\n",
       "      <td>1</td>\n",
       "    </tr>\n",
       "    <tr>\n",
       "      <th>2</th>\n",
       "      <td>1.51618</td>\n",
       "      <td>13.53</td>\n",
       "      <td>3.55</td>\n",
       "      <td>1.54</td>\n",
       "      <td>72.99</td>\n",
       "      <td>0.39</td>\n",
       "      <td>7.78</td>\n",
       "      <td>0.0</td>\n",
       "      <td>0.0</td>\n",
       "      <td>1</td>\n",
       "    </tr>\n",
       "    <tr>\n",
       "      <th>3</th>\n",
       "      <td>1.51766</td>\n",
       "      <td>13.21</td>\n",
       "      <td>3.69</td>\n",
       "      <td>1.29</td>\n",
       "      <td>72.61</td>\n",
       "      <td>0.57</td>\n",
       "      <td>8.22</td>\n",
       "      <td>0.0</td>\n",
       "      <td>0.0</td>\n",
       "      <td>1</td>\n",
       "    </tr>\n",
       "    <tr>\n",
       "      <th>4</th>\n",
       "      <td>1.51742</td>\n",
       "      <td>13.27</td>\n",
       "      <td>3.62</td>\n",
       "      <td>1.24</td>\n",
       "      <td>73.08</td>\n",
       "      <td>0.55</td>\n",
       "      <td>8.07</td>\n",
       "      <td>0.0</td>\n",
       "      <td>0.0</td>\n",
       "      <td>1</td>\n",
       "    </tr>\n",
       "  </tbody>\n",
       "</table>\n",
       "</div>"
      ],
      "text/plain": [
       "        RI   NA2O   MGO  AL2O3   SIO2   K2O   CAO  BAO  FE2O3  TYPE\n",
       "0  1.52101  13.64  4.49   1.10  71.78  0.06  8.75  0.0    0.0     1\n",
       "1  1.51761  13.89  3.60   1.36  72.73  0.48  7.83  0.0    0.0     1\n",
       "2  1.51618  13.53  3.55   1.54  72.99  0.39  7.78  0.0    0.0     1\n",
       "3  1.51766  13.21  3.69   1.29  72.61  0.57  8.22  0.0    0.0     1\n",
       "4  1.51742  13.27  3.62   1.24  73.08  0.55  8.07  0.0    0.0     1"
      ]
     },
     "execution_count": 13,
     "metadata": {},
     "output_type": "execute_result"
    }
   ],
   "source": [
    "# Remove ID feature\n",
    "glass.drop('ID', axis = 1, inplace = True)\n",
    "glass.head()"
   ]
  },
  {
   "cell_type": "code",
   "execution_count": 19,
   "id": "3c0caff1-1259-4165-ac3f-f62dd6f738be",
   "metadata": {},
   "outputs": [
    {
     "data": {
      "text/plain": [
       "1    70\n",
       "2    76\n",
       "3    17\n",
       "5    13\n",
       "6     9\n",
       "7    29\n",
       "Name: TYPE, dtype: int64"
      ]
     },
     "execution_count": 19,
     "metadata": {},
     "output_type": "execute_result"
    }
   ],
   "source": [
    "# Count number of instances for each class\n",
    "glass.TYPE.value_counts().sort_index()"
   ]
  },
  {
   "cell_type": "code",
   "execution_count": 21,
   "id": "c0a609c4-17bb-4b83-9057-83d158d53f62",
   "metadata": {},
   "outputs": [
    {
     "data": {
      "text/plain": [
       "1    0.327103\n",
       "2    0.355140\n",
       "3    0.079439\n",
       "5    0.060748\n",
       "6    0.042056\n",
       "7    0.135514\n",
       "Name: TYPE, dtype: float64"
      ]
     },
     "execution_count": 21,
     "metadata": {},
     "output_type": "execute_result"
    }
   ],
   "source": [
    "# Show as percentage\n",
    "(glass.TYPE.value_counts()/glass.TYPE.count()).sort_index()"
   ]
  },
  {
   "cell_type": "code",
   "execution_count": 23,
   "id": "02295a67-5984-4650-8dce-04e7e168a6e7",
   "metadata": {},
   "outputs": [
    {
     "data": {
      "text/plain": [
       "dtype('int64')"
      ]
     },
     "execution_count": 23,
     "metadata": {},
     "output_type": "execute_result"
    }
   ],
   "source": [
    "# Check data type\n",
    "glass.TYPE.dtype"
   ]
  },
  {
   "cell_type": "code",
   "execution_count": 24,
   "id": "76bd24e2-d3a3-4629-bd75-71433fb734b1",
   "metadata": {},
   "outputs": [],
   "source": [
    "# Recode as categorical\n",
    "glass['TYPE'] = glass['TYPE'].astype('category')"
   ]
  },
  {
   "cell_type": "code",
   "execution_count": 25,
   "id": "274e2d3b-a44a-4517-8809-899e97bbc254",
   "metadata": {},
   "outputs": [
    {
     "data": {
      "text/plain": [
       "CategoricalDtype(categories=[1, 2, 3, 5, 6, 7], ordered=False)"
      ]
     },
     "execution_count": 25,
     "metadata": {},
     "output_type": "execute_result"
    }
   ],
   "source": [
    "# Confirm recode\n",
    "glass.TYPE.dtype"
   ]
  },
  {
   "cell_type": "code",
   "execution_count": 26,
   "id": "ba8dd345-8525-4e3a-9f81-56fd87e07c59",
   "metadata": {},
   "outputs": [
    {
     "name": "stdout",
     "output_type": "stream",
     "text": [
      "<class 'pandas.core.frame.DataFrame'>\n",
      "RangeIndex: 214 entries, 0 to 213\n",
      "Data columns (total 10 columns):\n",
      " #   Column  Non-Null Count  Dtype   \n",
      "---  ------  --------------  -----   \n",
      " 0   RI      214 non-null    float64 \n",
      " 1   NA2O    214 non-null    float64 \n",
      " 2   MGO     214 non-null    float64 \n",
      " 3   AL2O3   214 non-null    float64 \n",
      " 4   SIO2    214 non-null    float64 \n",
      " 5   K2O     214 non-null    float64 \n",
      " 6   CAO     214 non-null    float64 \n",
      " 7   BAO     214 non-null    float64 \n",
      " 8   FE2O3   214 non-null    float64 \n",
      " 9   TYPE    214 non-null    category\n",
      "dtypes: category(1), float64(9)\n",
      "memory usage: 15.6 KB\n"
     ]
    }
   ],
   "source": [
    "# Recheck structure\n",
    "glass.info()"
   ]
  },
  {
   "cell_type": "code",
   "execution_count": 30,
   "id": "8762cebc-9cfb-4a3e-888b-869fb7f82a7c",
   "metadata": {},
   "outputs": [
    {
     "data": {
      "text/html": [
       "<div>\n",
       "<style scoped>\n",
       "    .dataframe tbody tr th:only-of-type {\n",
       "        vertical-align: middle;\n",
       "    }\n",
       "\n",
       "    .dataframe tbody tr th {\n",
       "        vertical-align: top;\n",
       "    }\n",
       "\n",
       "    .dataframe thead th {\n",
       "        text-align: right;\n",
       "    }\n",
       "</style>\n",
       "<table border=\"1\" class=\"dataframe\">\n",
       "  <thead>\n",
       "    <tr style=\"text-align: right;\">\n",
       "      <th></th>\n",
       "      <th>RI</th>\n",
       "      <th>NA2O</th>\n",
       "      <th>MGO</th>\n",
       "      <th>AL2O3</th>\n",
       "      <th>SIO2</th>\n",
       "      <th>K2O</th>\n",
       "      <th>CAO</th>\n",
       "      <th>BAO</th>\n",
       "      <th>FE2O3</th>\n",
       "      <th>TYPE</th>\n",
       "    </tr>\n",
       "  </thead>\n",
       "  <tbody>\n",
       "    <tr>\n",
       "      <th>0</th>\n",
       "      <td>1.52101</td>\n",
       "      <td>13.64</td>\n",
       "      <td>4.49</td>\n",
       "      <td>1.10</td>\n",
       "      <td>71.78</td>\n",
       "      <td>0.06</td>\n",
       "      <td>8.75</td>\n",
       "      <td>0.0</td>\n",
       "      <td>0.0</td>\n",
       "      <td>1</td>\n",
       "    </tr>\n",
       "    <tr>\n",
       "      <th>1</th>\n",
       "      <td>1.51761</td>\n",
       "      <td>13.89</td>\n",
       "      <td>3.60</td>\n",
       "      <td>1.36</td>\n",
       "      <td>72.73</td>\n",
       "      <td>0.48</td>\n",
       "      <td>7.83</td>\n",
       "      <td>0.0</td>\n",
       "      <td>0.0</td>\n",
       "      <td>1</td>\n",
       "    </tr>\n",
       "    <tr>\n",
       "      <th>2</th>\n",
       "      <td>1.51618</td>\n",
       "      <td>13.53</td>\n",
       "      <td>3.55</td>\n",
       "      <td>1.54</td>\n",
       "      <td>72.99</td>\n",
       "      <td>0.39</td>\n",
       "      <td>7.78</td>\n",
       "      <td>0.0</td>\n",
       "      <td>0.0</td>\n",
       "      <td>1</td>\n",
       "    </tr>\n",
       "    <tr>\n",
       "      <th>3</th>\n",
       "      <td>1.51766</td>\n",
       "      <td>13.21</td>\n",
       "      <td>3.69</td>\n",
       "      <td>1.29</td>\n",
       "      <td>72.61</td>\n",
       "      <td>0.57</td>\n",
       "      <td>8.22</td>\n",
       "      <td>0.0</td>\n",
       "      <td>0.0</td>\n",
       "      <td>1</td>\n",
       "    </tr>\n",
       "    <tr>\n",
       "      <th>4</th>\n",
       "      <td>1.51742</td>\n",
       "      <td>13.27</td>\n",
       "      <td>3.62</td>\n",
       "      <td>1.24</td>\n",
       "      <td>73.08</td>\n",
       "      <td>0.55</td>\n",
       "      <td>8.07</td>\n",
       "      <td>0.0</td>\n",
       "      <td>0.0</td>\n",
       "      <td>1</td>\n",
       "    </tr>\n",
       "  </tbody>\n",
       "</table>\n",
       "</div>"
      ],
      "text/plain": [
       "        RI   NA2O   MGO  AL2O3   SIO2   K2O   CAO  BAO  FE2O3 TYPE\n",
       "0  1.52101  13.64  4.49   1.10  71.78  0.06  8.75  0.0    0.0    1\n",
       "1  1.51761  13.89  3.60   1.36  72.73  0.48  7.83  0.0    0.0    1\n",
       "2  1.51618  13.53  3.55   1.54  72.99  0.39  7.78  0.0    0.0    1\n",
       "3  1.51766  13.21  3.69   1.29  72.61  0.57  8.22  0.0    0.0    1\n",
       "4  1.51742  13.27  3.62   1.24  73.08  0.55  8.07  0.0    0.0    1"
      ]
     },
     "execution_count": 30,
     "metadata": {},
     "output_type": "execute_result"
    }
   ],
   "source": [
    "# Summary of numerical features\n",
    "glass.describe()\n",
    "glass.head()"
   ]
  },
  {
   "cell_type": "markdown",
   "id": "0d81e8f5-4761-4eba-9cef-ebdd9989a659",
   "metadata": {},
   "source": [
    "# 2. Data normalization"
   ]
  },
  {
   "cell_type": "code",
   "execution_count": 33,
   "id": "83330e12-6726-4b79-ade8-b08fc51391de",
   "metadata": {},
   "outputs": [
    {
     "data": {
      "text/html": [
       "<div>\n",
       "<style scoped>\n",
       "    .dataframe tbody tr th:only-of-type {\n",
       "        vertical-align: middle;\n",
       "    }\n",
       "\n",
       "    .dataframe tbody tr th {\n",
       "        vertical-align: top;\n",
       "    }\n",
       "\n",
       "    .dataframe thead th {\n",
       "        text-align: right;\n",
       "    }\n",
       "</style>\n",
       "<table border=\"1\" class=\"dataframe\">\n",
       "  <thead>\n",
       "    <tr style=\"text-align: right;\">\n",
       "      <th></th>\n",
       "      <th>RI</th>\n",
       "      <th>NA2O</th>\n",
       "      <th>MGO</th>\n",
       "      <th>AL2O3</th>\n",
       "      <th>SIO2</th>\n",
       "      <th>K2O</th>\n",
       "      <th>CAO</th>\n",
       "      <th>BAO</th>\n",
       "      <th>FE2O3</th>\n",
       "    </tr>\n",
       "  </thead>\n",
       "  <tbody>\n",
       "    <tr>\n",
       "      <th>0</th>\n",
       "      <td>0.432836</td>\n",
       "      <td>0.437594</td>\n",
       "      <td>1.000000</td>\n",
       "      <td>0.252336</td>\n",
       "      <td>0.351786</td>\n",
       "      <td>0.009662</td>\n",
       "      <td>0.308550</td>\n",
       "      <td>0.0</td>\n",
       "      <td>0.0</td>\n",
       "    </tr>\n",
       "    <tr>\n",
       "      <th>1</th>\n",
       "      <td>0.283582</td>\n",
       "      <td>0.475188</td>\n",
       "      <td>0.801782</td>\n",
       "      <td>0.333333</td>\n",
       "      <td>0.521429</td>\n",
       "      <td>0.077295</td>\n",
       "      <td>0.223048</td>\n",
       "      <td>0.0</td>\n",
       "      <td>0.0</td>\n",
       "    </tr>\n",
       "    <tr>\n",
       "      <th>2</th>\n",
       "      <td>0.220808</td>\n",
       "      <td>0.421053</td>\n",
       "      <td>0.790646</td>\n",
       "      <td>0.389408</td>\n",
       "      <td>0.567857</td>\n",
       "      <td>0.062802</td>\n",
       "      <td>0.218401</td>\n",
       "      <td>0.0</td>\n",
       "      <td>0.0</td>\n",
       "    </tr>\n",
       "    <tr>\n",
       "      <th>3</th>\n",
       "      <td>0.285777</td>\n",
       "      <td>0.372932</td>\n",
       "      <td>0.821826</td>\n",
       "      <td>0.311526</td>\n",
       "      <td>0.500000</td>\n",
       "      <td>0.091787</td>\n",
       "      <td>0.259294</td>\n",
       "      <td>0.0</td>\n",
       "      <td>0.0</td>\n",
       "    </tr>\n",
       "    <tr>\n",
       "      <th>4</th>\n",
       "      <td>0.275241</td>\n",
       "      <td>0.381955</td>\n",
       "      <td>0.806236</td>\n",
       "      <td>0.295950</td>\n",
       "      <td>0.583929</td>\n",
       "      <td>0.088567</td>\n",
       "      <td>0.245353</td>\n",
       "      <td>0.0</td>\n",
       "      <td>0.0</td>\n",
       "    </tr>\n",
       "  </tbody>\n",
       "</table>\n",
       "</div>"
      ],
      "text/plain": [
       "         RI      NA2O       MGO     AL2O3      SIO2       K2O       CAO  BAO  \\\n",
       "0  0.432836  0.437594  1.000000  0.252336  0.351786  0.009662  0.308550  0.0   \n",
       "1  0.283582  0.475188  0.801782  0.333333  0.521429  0.077295  0.223048  0.0   \n",
       "2  0.220808  0.421053  0.790646  0.389408  0.567857  0.062802  0.218401  0.0   \n",
       "3  0.285777  0.372932  0.821826  0.311526  0.500000  0.091787  0.259294  0.0   \n",
       "4  0.275241  0.381955  0.806236  0.295950  0.583929  0.088567  0.245353  0.0   \n",
       "\n",
       "   FE2O3  \n",
       "0    0.0  \n",
       "1    0.0  \n",
       "2    0.0  \n",
       "3    0.0  \n",
       "4    0.0  "
      ]
     },
     "execution_count": 33,
     "metadata": {},
     "output_type": "execute_result"
    }
   ],
   "source": [
    "# Normalize data\n",
    "glass_n = pd.DataFrame(preprocessing.minmax_scale(glass.iloc[:,:9]), columns=glass.columns[:9])\n",
    "\n",
    "glass_n.head()"
   ]
  },
  {
   "cell_type": "code",
   "execution_count": 34,
   "id": "74f2f0bb-f51b-4f63-8086-50ae343c993c",
   "metadata": {},
   "outputs": [
    {
     "data": {
      "text/html": [
       "<div>\n",
       "<style scoped>\n",
       "    .dataframe tbody tr th:only-of-type {\n",
       "        vertical-align: middle;\n",
       "    }\n",
       "\n",
       "    .dataframe tbody tr th {\n",
       "        vertical-align: top;\n",
       "    }\n",
       "\n",
       "    .dataframe thead th {\n",
       "        text-align: right;\n",
       "    }\n",
       "</style>\n",
       "<table border=\"1\" class=\"dataframe\">\n",
       "  <thead>\n",
       "    <tr style=\"text-align: right;\">\n",
       "      <th></th>\n",
       "      <th>RI</th>\n",
       "      <th>NA2O</th>\n",
       "      <th>MGO</th>\n",
       "      <th>AL2O3</th>\n",
       "      <th>SIO2</th>\n",
       "      <th>K2O</th>\n",
       "      <th>CAO</th>\n",
       "      <th>BAO</th>\n",
       "      <th>FE2O3</th>\n",
       "    </tr>\n",
       "  </thead>\n",
       "  <tbody>\n",
       "    <tr>\n",
       "      <th>count</th>\n",
       "      <td>214.000000</td>\n",
       "      <td>214.000000</td>\n",
       "      <td>214.000000</td>\n",
       "      <td>214.000000</td>\n",
       "      <td>214.000000</td>\n",
       "      <td>214.000000</td>\n",
       "      <td>214.000000</td>\n",
       "      <td>214.000000</td>\n",
       "      <td>214.000000</td>\n",
       "    </tr>\n",
       "    <tr>\n",
       "      <th>mean</th>\n",
       "      <td>0.316744</td>\n",
       "      <td>0.402684</td>\n",
       "      <td>0.597891</td>\n",
       "      <td>0.359784</td>\n",
       "      <td>0.507310</td>\n",
       "      <td>0.080041</td>\n",
       "      <td>0.327785</td>\n",
       "      <td>0.055570</td>\n",
       "      <td>0.111783</td>\n",
       "    </tr>\n",
       "    <tr>\n",
       "      <th>std</th>\n",
       "      <td>0.133313</td>\n",
       "      <td>0.122798</td>\n",
       "      <td>0.321249</td>\n",
       "      <td>0.155536</td>\n",
       "      <td>0.138312</td>\n",
       "      <td>0.105023</td>\n",
       "      <td>0.132263</td>\n",
       "      <td>0.157847</td>\n",
       "      <td>0.191056</td>\n",
       "    </tr>\n",
       "    <tr>\n",
       "      <th>min</th>\n",
       "      <td>0.000000</td>\n",
       "      <td>0.000000</td>\n",
       "      <td>0.000000</td>\n",
       "      <td>0.000000</td>\n",
       "      <td>0.000000</td>\n",
       "      <td>0.000000</td>\n",
       "      <td>0.000000</td>\n",
       "      <td>0.000000</td>\n",
       "      <td>0.000000</td>\n",
       "    </tr>\n",
       "    <tr>\n",
       "      <th>25%</th>\n",
       "      <td>0.235843</td>\n",
       "      <td>0.327444</td>\n",
       "      <td>0.471047</td>\n",
       "      <td>0.280374</td>\n",
       "      <td>0.441071</td>\n",
       "      <td>0.019726</td>\n",
       "      <td>0.261152</td>\n",
       "      <td>0.000000</td>\n",
       "      <td>0.000000</td>\n",
       "    </tr>\n",
       "    <tr>\n",
       "      <th>50%</th>\n",
       "      <td>0.286655</td>\n",
       "      <td>0.386466</td>\n",
       "      <td>0.775056</td>\n",
       "      <td>0.333333</td>\n",
       "      <td>0.532143</td>\n",
       "      <td>0.089372</td>\n",
       "      <td>0.294610</td>\n",
       "      <td>0.000000</td>\n",
       "      <td>0.000000</td>\n",
       "    </tr>\n",
       "    <tr>\n",
       "      <th>75%</th>\n",
       "      <td>0.351514</td>\n",
       "      <td>0.465414</td>\n",
       "      <td>0.801782</td>\n",
       "      <td>0.417445</td>\n",
       "      <td>0.585268</td>\n",
       "      <td>0.098229</td>\n",
       "      <td>0.347816</td>\n",
       "      <td>0.000000</td>\n",
       "      <td>0.196078</td>\n",
       "    </tr>\n",
       "    <tr>\n",
       "      <th>max</th>\n",
       "      <td>1.000000</td>\n",
       "      <td>1.000000</td>\n",
       "      <td>1.000000</td>\n",
       "      <td>1.000000</td>\n",
       "      <td>1.000000</td>\n",
       "      <td>1.000000</td>\n",
       "      <td>1.000000</td>\n",
       "      <td>1.000000</td>\n",
       "      <td>1.000000</td>\n",
       "    </tr>\n",
       "  </tbody>\n",
       "</table>\n",
       "</div>"
      ],
      "text/plain": [
       "               RI        NA2O         MGO       AL2O3        SIO2         K2O  \\\n",
       "count  214.000000  214.000000  214.000000  214.000000  214.000000  214.000000   \n",
       "mean     0.316744    0.402684    0.597891    0.359784    0.507310    0.080041   \n",
       "std      0.133313    0.122798    0.321249    0.155536    0.138312    0.105023   \n",
       "min      0.000000    0.000000    0.000000    0.000000    0.000000    0.000000   \n",
       "25%      0.235843    0.327444    0.471047    0.280374    0.441071    0.019726   \n",
       "50%      0.286655    0.386466    0.775056    0.333333    0.532143    0.089372   \n",
       "75%      0.351514    0.465414    0.801782    0.417445    0.585268    0.098229   \n",
       "max      1.000000    1.000000    1.000000    1.000000    1.000000    1.000000   \n",
       "\n",
       "              CAO         BAO       FE2O3  \n",
       "count  214.000000  214.000000  214.000000  \n",
       "mean     0.327785    0.055570    0.111783  \n",
       "std      0.132263    0.157847    0.191056  \n",
       "min      0.000000    0.000000    0.000000  \n",
       "25%      0.261152    0.000000    0.000000  \n",
       "50%      0.294610    0.000000    0.000000  \n",
       "75%      0.347816    0.000000    0.196078  \n",
       "max      1.000000    1.000000    1.000000  "
      ]
     },
     "execution_count": 34,
     "metadata": {},
     "output_type": "execute_result"
    }
   ],
   "source": [
    "# Verify normalization\n",
    "glass_n.describe()"
   ]
  },
  {
   "cell_type": "markdown",
   "id": "2d1edb5c-1b39-4030-95bb-0151dcdcb101",
   "metadata": {},
   "source": [
    "### 3. Train a model on the data"
   ]
  },
  {
   "cell_type": "code",
   "execution_count": 47,
   "id": "6310dd9e-050e-4d42-b248-25f8ab172b03",
   "metadata": {},
   "outputs": [
    {
     "name": "stdout",
     "output_type": "stream",
     "text": [
      "171\n"
     ]
    },
    {
     "data": {
      "text/html": [
       "<div>\n",
       "<style scoped>\n",
       "    .dataframe tbody tr th:only-of-type {\n",
       "        vertical-align: middle;\n",
       "    }\n",
       "\n",
       "    .dataframe tbody tr th {\n",
       "        vertical-align: top;\n",
       "    }\n",
       "\n",
       "    .dataframe thead th {\n",
       "        text-align: right;\n",
       "    }\n",
       "</style>\n",
       "<table border=\"1\" class=\"dataframe\">\n",
       "  <thead>\n",
       "    <tr style=\"text-align: right;\">\n",
       "      <th></th>\n",
       "      <th>RI</th>\n",
       "      <th>NA2O</th>\n",
       "      <th>MGO</th>\n",
       "      <th>AL2O3</th>\n",
       "      <th>SIO2</th>\n",
       "      <th>K2O</th>\n",
       "      <th>CAO</th>\n",
       "      <th>BAO</th>\n",
       "      <th>FE2O3</th>\n",
       "      <th>TYPE</th>\n",
       "    </tr>\n",
       "  </thead>\n",
       "  <tbody>\n",
       "    <tr>\n",
       "      <th>207</th>\n",
       "      <td>1.51831</td>\n",
       "      <td>14.39</td>\n",
       "      <td>0.00</td>\n",
       "      <td>1.82</td>\n",
       "      <td>72.86</td>\n",
       "      <td>1.41</td>\n",
       "      <td>6.47</td>\n",
       "      <td>2.88</td>\n",
       "      <td>0.0</td>\n",
       "      <td>7</td>\n",
       "    </tr>\n",
       "    <tr>\n",
       "      <th>152</th>\n",
       "      <td>1.51779</td>\n",
       "      <td>13.64</td>\n",
       "      <td>3.65</td>\n",
       "      <td>0.65</td>\n",
       "      <td>73.00</td>\n",
       "      <td>0.06</td>\n",
       "      <td>8.93</td>\n",
       "      <td>0.00</td>\n",
       "      <td>0.0</td>\n",
       "      <td>3</td>\n",
       "    </tr>\n",
       "    <tr>\n",
       "      <th>110</th>\n",
       "      <td>1.52664</td>\n",
       "      <td>11.23</td>\n",
       "      <td>0.00</td>\n",
       "      <td>0.77</td>\n",
       "      <td>73.21</td>\n",
       "      <td>0.00</td>\n",
       "      <td>14.68</td>\n",
       "      <td>0.00</td>\n",
       "      <td>0.0</td>\n",
       "      <td>2</td>\n",
       "    </tr>\n",
       "    <tr>\n",
       "      <th>197</th>\n",
       "      <td>1.51727</td>\n",
       "      <td>14.70</td>\n",
       "      <td>0.00</td>\n",
       "      <td>2.34</td>\n",
       "      <td>73.28</td>\n",
       "      <td>0.00</td>\n",
       "      <td>8.95</td>\n",
       "      <td>0.66</td>\n",
       "      <td>0.0</td>\n",
       "      <td>7</td>\n",
       "    </tr>\n",
       "    <tr>\n",
       "      <th>171</th>\n",
       "      <td>1.51316</td>\n",
       "      <td>13.02</td>\n",
       "      <td>0.00</td>\n",
       "      <td>3.04</td>\n",
       "      <td>70.48</td>\n",
       "      <td>6.21</td>\n",
       "      <td>6.96</td>\n",
       "      <td>0.00</td>\n",
       "      <td>0.0</td>\n",
       "      <td>5</td>\n",
       "    </tr>\n",
       "  </tbody>\n",
       "</table>\n",
       "</div>"
      ],
      "text/plain": [
       "          RI   NA2O   MGO  AL2O3   SIO2   K2O    CAO   BAO  FE2O3 TYPE\n",
       "207  1.51831  14.39  0.00   1.82  72.86  1.41   6.47  2.88    0.0    7\n",
       "152  1.51779  13.64  3.65   0.65  73.00  0.06   8.93  0.00    0.0    3\n",
       "110  1.52664  11.23  0.00   0.77  73.21  0.00  14.68  0.00    0.0    2\n",
       "197  1.51727  14.70  0.00   2.34  73.28  0.00   8.95  0.66    0.0    7\n",
       "171  1.51316  13.02  0.00   3.04  70.48  6.21   6.96  0.00    0.0    5"
      ]
     },
     "execution_count": 47,
     "metadata": {},
     "output_type": "execute_result"
    }
   ],
   "source": [
    "train_N = int(np.floor(glass.shape[0] * .8))"
   ]
  },
  {
   "cell_type": "code",
   "execution_count": 50,
   "id": "b9f4bee8-427b-4e28-adb3-da322db94964",
   "metadata": {},
   "outputs": [
    {
     "name": "stdout",
     "output_type": "stream",
     "text": [
      "<class 'pandas.core.frame.DataFrame'>\n",
      "Int64Index: 171 entries, 16 to 72\n",
      "Data columns (total 10 columns):\n",
      " #   Column  Non-Null Count  Dtype   \n",
      "---  ------  --------------  -----   \n",
      " 0   RI      171 non-null    float64 \n",
      " 1   NA2O    171 non-null    float64 \n",
      " 2   MGO     171 non-null    float64 \n",
      " 3   AL2O3   171 non-null    float64 \n",
      " 4   SIO2    171 non-null    float64 \n",
      " 5   K2O     171 non-null    float64 \n",
      " 6   CAO     171 non-null    float64 \n",
      " 7   BAO     171 non-null    float64 \n",
      " 8   FE2O3   171 non-null    float64 \n",
      " 9   TYPE    171 non-null    category\n",
      "dtypes: category(1), float64(9)\n",
      "memory usage: 13.7 KB\n",
      "<class 'pandas.core.frame.DataFrame'>\n",
      "Int64Index: 43 entries, 0 to 211\n",
      "Data columns (total 10 columns):\n",
      " #   Column  Non-Null Count  Dtype   \n",
      "---  ------  --------------  -----   \n",
      " 0   RI      43 non-null     float64 \n",
      " 1   NA2O    43 non-null     float64 \n",
      " 2   MGO     43 non-null     float64 \n",
      " 3   AL2O3   43 non-null     float64 \n",
      " 4   SIO2    43 non-null     float64 \n",
      " 5   K2O     43 non-null     float64 \n",
      " 6   CAO     43 non-null     float64 \n",
      " 7   BAO     43 non-null     float64 \n",
      " 8   FE2O3   43 non-null     float64 \n",
      " 9   TYPE    43 non-null     category\n",
      "dtypes: category(1), float64(9)\n",
      "memory usage: 3.6 KB\n"
     ]
    }
   ],
   "source": [
    "# Training and test set\n",
    "glass_train_n = glass.sample(n=train_N)\n",
    "\n",
    "# Get indices of the randomly selected rows\n",
    "random_indices = glass_train_n.index\n",
    "\n",
    "# Create a data frame excluding the randomly selected rows\n",
    "glass_test_n  = glass.drop(random_indices)\n",
    "\n",
    "glass_train_n.info()\n",
    "glass_test_n.info()"
   ]
  },
  {
   "cell_type": "code",
   "execution_count": 183,
   "id": "0feabe7d-dd7e-4115-8390-40118a5c5c17",
   "metadata": {},
   "outputs": [],
   "source": [
    "# Training and test set labels\n",
    "wbcd_train_labels = wbcd.iloc[:469,0]\n",
    "wbcd_test_labels = wbcd.iloc[470:,0]"
   ]
  },
  {
   "cell_type": "code",
   "execution_count": 184,
   "id": "6082650f-7005-44e5-8454-b1fca0045b68",
   "metadata": {},
   "outputs": [],
   "source": [
    "# Set KNN alg, start with k = 21 sqrt(instances)\n",
    "knn = KNeighborsClassifier(n_neighbors=21)"
   ]
  },
  {
   "cell_type": "code",
   "execution_count": 185,
   "id": "84bda83c-c7cd-4ef5-8ef9-fb0ff1e4f37b",
   "metadata": {},
   "outputs": [
    {
     "data": {
      "text/plain": [
       "KNeighborsClassifier(n_neighbors=21)"
      ]
     },
     "execution_count": 185,
     "metadata": {},
     "output_type": "execute_result"
    }
   ],
   "source": [
    "# Train model\n",
    "knn.fit(wbcd_train_n, wbcd_train_labels)"
   ]
  },
  {
   "cell_type": "code",
   "execution_count": 186,
   "id": "aed970a9-8437-4c46-b9e0-15d14b15a3ab",
   "metadata": {},
   "outputs": [],
   "source": [
    "# Predict test set\n",
    "wbcd_test_pred = knn.predict(wbcd_test_n)"
   ]
  },
  {
   "cell_type": "markdown",
   "id": "4e5e6af5-010e-4389-8519-4c710b5ba3ff",
   "metadata": {},
   "source": [
    "#### 4. Model evaluation"
   ]
  },
  {
   "cell_type": "code",
   "execution_count": 187,
   "id": "608b6b7b-1904-4681-8d06-3b869a1eb456",
   "metadata": {},
   "outputs": [
    {
     "data": {
      "image/png": "[encoded data removed]",
      "text/plain": [
       "<Figure size 432x288 with 2 Axes>"
      ]
     },
     "metadata": {
      "needs_background": "light"
     },
     "output_type": "display_data"
    },
    {
     "name": "stdout",
     "output_type": "stream",
     "text": [
      "Accuracy: 0.98 \n",
      "Precision: 1.0 \n",
      "Sensitivity: 0.949 \n",
      "Specificity: 1.0 \n",
      "F1_score: 0.974\n"
     ]
    }
   ],
   "source": [
    "confusion_matrix = metrics.confusion_matrix(wbcd_test_labels, wbcd_test_pred)\n",
    "confusion_matrix_dis(confusion_matrix)\n",
    "metrics_values(wbcd_test_labels, wbcd_test_pred)"
   ]
  },
  {
   "cell_type": "markdown",
   "id": "b76962d4-4768-4797-a41b-9978b312e7ff",
   "metadata": {},
   "source": [
    "# 5. Improve performance"
   ]
  },
  {
   "cell_type": "markdown",
   "id": "fe342234-b29b-493d-a70c-e1ee327a5745",
   "metadata": {},
   "source": [
    "## a. Change normalization method to z-score standardization"
   ]
  },
  {
   "cell_type": "code",
   "execution_count": 188,
   "id": "e8ca55bf-8138-4cca-bd88-6384303eeb8c",
   "metadata": {},
   "outputs": [
    {
     "data": {
      "text/html": [
       "<div>\n",
       "<style scoped>\n",
       "    .dataframe tbody tr th:only-of-type {\n",
       "        vertical-align: middle;\n",
       "    }\n",
       "\n",
       "    .dataframe tbody tr th {\n",
       "        vertical-align: top;\n",
       "    }\n",
       "\n",
       "    .dataframe thead th {\n",
       "        text-align: right;\n",
       "    }\n",
       "</style>\n",
       "<table border=\"1\" class=\"dataframe\">\n",
       "  <thead>\n",
       "    <tr style=\"text-align: right;\">\n",
       "      <th></th>\n",
       "      <th>0</th>\n",
       "      <th>1</th>\n",
       "      <th>2</th>\n",
       "      <th>3</th>\n",
       "      <th>4</th>\n",
       "      <th>5</th>\n",
       "      <th>6</th>\n",
       "      <th>7</th>\n",
       "      <th>8</th>\n",
       "      <th>9</th>\n",
       "      <th>...</th>\n",
       "      <th>20</th>\n",
       "      <th>21</th>\n",
       "      <th>22</th>\n",
       "      <th>23</th>\n",
       "      <th>24</th>\n",
       "      <th>25</th>\n",
       "      <th>26</th>\n",
       "      <th>27</th>\n",
       "      <th>28</th>\n",
       "      <th>29</th>\n",
       "    </tr>\n",
       "  </thead>\n",
       "  <tbody>\n",
       "    <tr>\n",
       "      <th>count</th>\n",
       "      <td>5.690000e+02</td>\n",
       "      <td>5.690000e+02</td>\n",
       "      <td>5.690000e+02</td>\n",
       "      <td>5.690000e+02</td>\n",
       "      <td>5.690000e+02</td>\n",
       "      <td>5.690000e+02</td>\n",
       "      <td>5.690000e+02</td>\n",
       "      <td>5.690000e+02</td>\n",
       "      <td>5.690000e+02</td>\n",
       "      <td>5.690000e+02</td>\n",
       "      <td>...</td>\n",
       "      <td>5.690000e+02</td>\n",
       "      <td>5.690000e+02</td>\n",
       "      <td>5.690000e+02</td>\n",
       "      <td>5.690000e+02</td>\n",
       "      <td>5.690000e+02</td>\n",
       "      <td>5.690000e+02</td>\n",
       "      <td>5.690000e+02</td>\n",
       "      <td>5.690000e+02</td>\n",
       "      <td>5.690000e+02</td>\n",
       "      <td>5.690000e+02</td>\n",
       "    </tr>\n",
       "    <tr>\n",
       "      <th>mean</th>\n",
       "      <td>-1.287781e-16</td>\n",
       "      <td>-7.373520e-16</td>\n",
       "      <td>-1.303390e-16</td>\n",
       "      <td>-2.239958e-16</td>\n",
       "      <td>1.660457e-16</td>\n",
       "      <td>1.882891e-16</td>\n",
       "      <td>5.112099e-17</td>\n",
       "      <td>-4.760886e-17</td>\n",
       "      <td>1.465338e-16</td>\n",
       "      <td>-1.517240e-15</td>\n",
       "      <td>...</td>\n",
       "      <td>-8.507157e-17</td>\n",
       "      <td>6.634022e-18</td>\n",
       "      <td>-3.570665e-16</td>\n",
       "      <td>-1.888745e-16</td>\n",
       "      <td>-2.234104e-16</td>\n",
       "      <td>7.999850e-18</td>\n",
       "      <td>9.033976e-17</td>\n",
       "      <td>2.224348e-16</td>\n",
       "      <td>2.734583e-16</td>\n",
       "      <td>1.851672e-16</td>\n",
       "    </tr>\n",
       "    <tr>\n",
       "      <th>std</th>\n",
       "      <td>1.000880e+00</td>\n",
       "      <td>1.000880e+00</td>\n",
       "      <td>1.000880e+00</td>\n",
       "      <td>1.000880e+00</td>\n",
       "      <td>1.000880e+00</td>\n",
       "      <td>1.000880e+00</td>\n",
       "      <td>1.000880e+00</td>\n",
       "      <td>1.000880e+00</td>\n",
       "      <td>1.000880e+00</td>\n",
       "      <td>1.000880e+00</td>\n",
       "      <td>...</td>\n",
       "      <td>1.000880e+00</td>\n",
       "      <td>1.000880e+00</td>\n",
       "      <td>1.000880e+00</td>\n",
       "      <td>1.000880e+00</td>\n",
       "      <td>1.000880e+00</td>\n",
       "      <td>1.000880e+00</td>\n",
       "      <td>1.000880e+00</td>\n",
       "      <td>1.000880e+00</td>\n",
       "      <td>1.000880e+00</td>\n",
       "      <td>1.000880e+00</td>\n",
       "    </tr>\n",
       "    <tr>\n",
       "      <th>min</th>\n",
       "      <td>-2.029648e+00</td>\n",
       "      <td>-2.229249e+00</td>\n",
       "      <td>-1.984504e+00</td>\n",
       "      <td>-1.454443e+00</td>\n",
       "      <td>-3.112085e+00</td>\n",
       "      <td>-1.610136e+00</td>\n",
       "      <td>-1.114873e+00</td>\n",
       "      <td>-1.261820e+00</td>\n",
       "      <td>-2.744117e+00</td>\n",
       "      <td>-1.819865e+00</td>\n",
       "      <td>...</td>\n",
       "      <td>-1.726901e+00</td>\n",
       "      <td>-2.223994e+00</td>\n",
       "      <td>-1.693361e+00</td>\n",
       "      <td>-1.222423e+00</td>\n",
       "      <td>-2.682695e+00</td>\n",
       "      <td>-1.443878e+00</td>\n",
       "      <td>-1.305831e+00</td>\n",
       "      <td>-1.745063e+00</td>\n",
       "      <td>-2.160960e+00</td>\n",
       "      <td>-1.601839e+00</td>\n",
       "    </tr>\n",
       "    <tr>\n",
       "      <th>25%</th>\n",
       "      <td>-6.893853e-01</td>\n",
       "      <td>-7.259631e-01</td>\n",
       "      <td>-6.919555e-01</td>\n",
       "      <td>-6.671955e-01</td>\n",
       "      <td>-7.109628e-01</td>\n",
       "      <td>-7.470860e-01</td>\n",
       "      <td>-7.437479e-01</td>\n",
       "      <td>-7.379438e-01</td>\n",
       "      <td>-7.032397e-01</td>\n",
       "      <td>-7.226392e-01</td>\n",
       "      <td>...</td>\n",
       "      <td>-6.749213e-01</td>\n",
       "      <td>-7.486293e-01</td>\n",
       "      <td>-6.895783e-01</td>\n",
       "      <td>-6.421359e-01</td>\n",
       "      <td>-6.912304e-01</td>\n",
       "      <td>-6.810833e-01</td>\n",
       "      <td>-7.565142e-01</td>\n",
       "      <td>-7.563999e-01</td>\n",
       "      <td>-6.418637e-01</td>\n",
       "      <td>-6.919118e-01</td>\n",
       "    </tr>\n",
       "    <tr>\n",
       "      <th>50%</th>\n",
       "      <td>-2.150816e-01</td>\n",
       "      <td>-1.046362e-01</td>\n",
       "      <td>-2.359800e-01</td>\n",
       "      <td>-2.951869e-01</td>\n",
       "      <td>-3.489108e-02</td>\n",
       "      <td>-2.219405e-01</td>\n",
       "      <td>-3.422399e-01</td>\n",
       "      <td>-3.977212e-01</td>\n",
       "      <td>-7.162650e-02</td>\n",
       "      <td>-1.782793e-01</td>\n",
       "      <td>...</td>\n",
       "      <td>-2.690395e-01</td>\n",
       "      <td>-4.351564e-02</td>\n",
       "      <td>-2.859802e-01</td>\n",
       "      <td>-3.411812e-01</td>\n",
       "      <td>-4.684277e-02</td>\n",
       "      <td>-2.695009e-01</td>\n",
       "      <td>-2.182321e-01</td>\n",
       "      <td>-2.234689e-01</td>\n",
       "      <td>-1.274095e-01</td>\n",
       "      <td>-2.164441e-01</td>\n",
       "    </tr>\n",
       "    <tr>\n",
       "      <th>75%</th>\n",
       "      <td>4.693926e-01</td>\n",
       "      <td>5.841756e-01</td>\n",
       "      <td>4.996769e-01</td>\n",
       "      <td>3.635073e-01</td>\n",
       "      <td>6.361990e-01</td>\n",
       "      <td>4.938569e-01</td>\n",
       "      <td>5.260619e-01</td>\n",
       "      <td>6.469351e-01</td>\n",
       "      <td>5.307792e-01</td>\n",
       "      <td>4.709834e-01</td>\n",
       "      <td>...</td>\n",
       "      <td>5.220158e-01</td>\n",
       "      <td>6.583411e-01</td>\n",
       "      <td>5.402790e-01</td>\n",
       "      <td>3.575891e-01</td>\n",
       "      <td>5.975448e-01</td>\n",
       "      <td>5.396688e-01</td>\n",
       "      <td>5.311411e-01</td>\n",
       "      <td>7.125100e-01</td>\n",
       "      <td>4.501382e-01</td>\n",
       "      <td>4.507624e-01</td>\n",
       "    </tr>\n",
       "    <tr>\n",
       "      <th>max</th>\n",
       "      <td>3.971288e+00</td>\n",
       "      <td>4.651889e+00</td>\n",
       "      <td>3.976130e+00</td>\n",
       "      <td>5.250529e+00</td>\n",
       "      <td>4.770911e+00</td>\n",
       "      <td>4.568425e+00</td>\n",
       "      <td>4.243589e+00</td>\n",
       "      <td>3.927930e+00</td>\n",
       "      <td>4.484751e+00</td>\n",
       "      <td>4.910919e+00</td>\n",
       "      <td>...</td>\n",
       "      <td>4.094189e+00</td>\n",
       "      <td>3.885905e+00</td>\n",
       "      <td>4.287337e+00</td>\n",
       "      <td>5.930172e+00</td>\n",
       "      <td>3.955374e+00</td>\n",
       "      <td>5.112877e+00</td>\n",
       "      <td>4.700669e+00</td>\n",
       "      <td>2.685877e+00</td>\n",
       "      <td>6.046041e+00</td>\n",
       "      <td>6.846856e+00</td>\n",
       "    </tr>\n",
       "  </tbody>\n",
       "</table>\n",
       "<p>8 rows × 30 columns</p>\n",
       "</div>"
      ],
      "text/plain": [
       "                 0             1             2             3             4   \\\n",
       "count  5.690000e+02  5.690000e+02  5.690000e+02  5.690000e+02  5.690000e+02   \n",
       "mean  -1.287781e-16 -7.373520e-16 -1.303390e-16 -2.239958e-16  1.660457e-16   \n",
       "std    1.000880e+00  1.000880e+00  1.000880e+00  1.000880e+00  1.000880e+00   \n",
       "min   -2.029648e+00 -2.229249e+00 -1.984504e+00 -1.454443e+00 -3.112085e+00   \n",
       "25%   -6.893853e-01 -7.259631e-01 -6.919555e-01 -6.671955e-01 -7.109628e-01   \n",
       "50%   -2.150816e-01 -1.046362e-01 -2.359800e-01 -2.951869e-01 -3.489108e-02   \n",
       "75%    4.693926e-01  5.841756e-01  4.996769e-01  3.635073e-01  6.361990e-01   \n",
       "max    3.971288e+00  4.651889e+00  3.976130e+00  5.250529e+00  4.770911e+00   \n",
       "\n",
       "                 5             6             7             8             9   \\\n",
       "count  5.690000e+02  5.690000e+02  5.690000e+02  5.690000e+02  5.690000e+02   \n",
       "mean   1.882891e-16  5.112099e-17 -4.760886e-17  1.465338e-16 -1.517240e-15   \n",
       "std    1.000880e+00  1.000880e+00  1.000880e+00  1.000880e+00  1.000880e+00   \n",
       "min   -1.610136e+00 -1.114873e+00 -1.261820e+00 -2.744117e+00 -1.819865e+00   \n",
       "25%   -7.470860e-01 -7.437479e-01 -7.379438e-01 -7.032397e-01 -7.226392e-01   \n",
       "50%   -2.219405e-01 -3.422399e-01 -3.977212e-01 -7.162650e-02 -1.782793e-01   \n",
       "75%    4.938569e-01  5.260619e-01  6.469351e-01  5.307792e-01  4.709834e-01   \n",
       "max    4.568425e+00  4.243589e+00  3.927930e+00  4.484751e+00  4.910919e+00   \n",
       "\n",
       "       ...            20            21            22            23  \\\n",
       "count  ...  5.690000e+02  5.690000e+02  5.690000e+02  5.690000e+02   \n",
       "mean   ... -8.507157e-17  6.634022e-18 -3.570665e-16 -1.888745e-16   \n",
       "std    ...  1.000880e+00  1.000880e+00  1.000880e+00  1.000880e+00   \n",
       "min    ... -1.726901e+00 -2.223994e+00 -1.693361e+00 -1.222423e+00   \n",
       "25%    ... -6.749213e-01 -7.486293e-01 -6.895783e-01 -6.421359e-01   \n",
       "50%    ... -2.690395e-01 -4.351564e-02 -2.859802e-01 -3.411812e-01   \n",
       "75%    ...  5.220158e-01  6.583411e-01  5.402790e-01  3.575891e-01   \n",
       "max    ...  4.094189e+00  3.885905e+00  4.287337e+00  5.930172e+00   \n",
       "\n",
       "                 24            25            26            27            28  \\\n",
       "count  5.690000e+02  5.690000e+02  5.690000e+02  5.690000e+02  5.690000e+02   \n",
       "mean  -2.234104e-16  7.999850e-18  9.033976e-17  2.224348e-16  2.734583e-16   \n",
       "std    1.000880e+00  1.000880e+00  1.000880e+00  1.000880e+00  1.000880e+00   \n",
       "min   -2.682695e+00 -1.443878e+00 -1.305831e+00 -1.745063e+00 -2.160960e+00   \n",
       "25%   -6.912304e-01 -6.810833e-01 -7.565142e-01 -7.563999e-01 -6.418637e-01   \n",
       "50%   -4.684277e-02 -2.695009e-01 -2.182321e-01 -2.234689e-01 -1.274095e-01   \n",
       "75%    5.975448e-01  5.396688e-01  5.311411e-01  7.125100e-01  4.501382e-01   \n",
       "max    3.955374e+00  5.112877e+00  4.700669e+00  2.685877e+00  6.046041e+00   \n",
       "\n",
       "                 29  \n",
       "count  5.690000e+02  \n",
       "mean   1.851672e-16  \n",
       "std    1.000880e+00  \n",
       "min   -1.601839e+00  \n",
       "25%   -6.919118e-01  \n",
       "50%   -2.164441e-01  \n",
       "75%    4.507624e-01  \n",
       "max    6.846856e+00  \n",
       "\n",
       "[8 rows x 30 columns]"
      ]
     },
     "execution_count": 188,
     "metadata": {},
     "output_type": "execute_result"
    }
   ],
   "source": [
    "#Apply scale \n",
    "wbcd_z = pd.DataFrame(preprocessing.scale(wbcd.iloc[:,1:]))\n",
    "wbcd_z.describe()"
   ]
  },
  {
   "cell_type": "code",
   "execution_count": 189,
   "id": "9e247a5c-dd63-4e52-8d08-0c75e4b3a7cc",
   "metadata": {},
   "outputs": [],
   "source": [
    "wbcd_train_z = wbcd_z.iloc[:469, ]\n",
    "wbcd_test_z  = wbcd_z.iloc[470:, ]"
   ]
  },
  {
   "cell_type": "code",
   "execution_count": 190,
   "id": "a0f837d1-9589-4bfb-8298-dba7b9c358bf",
   "metadata": {},
   "outputs": [
    {
     "data": {
      "text/plain": [
       "KNeighborsClassifier(n_neighbors=21)"
      ]
     },
     "execution_count": 190,
     "metadata": {},
     "output_type": "execute_result"
    }
   ],
   "source": [
    "knn.fit(wbcd_train_z, wbcd_train_labels)"
   ]
  },
  {
   "cell_type": "code",
   "execution_count": 191,
   "id": "e3aee3c6-76e8-4d84-a0d7-343a2ae74327",
   "metadata": {},
   "outputs": [],
   "source": [
    "wbcd_test_pred = knn.predict(wbcd_test_z)"
   ]
  },
  {
   "cell_type": "code",
   "execution_count": 192,
   "id": "c568f31d-5f17-448a-b125-355de6cba174",
   "metadata": {},
   "outputs": [
    {
     "data": {
      "image/png": "[encoded data removed]",
      "text/plain": [
       "<Figure size 432x288 with 2 Axes>"
      ]
     },
     "metadata": {
      "needs_background": "light"
     },
     "output_type": "display_data"
    },
    {
     "name": "stdout",
     "output_type": "stream",
     "text": [
      "Accuracy: 0.949 \n",
      "Precision: 1.0 \n",
      "Sensitivity: 0.872 \n",
      "Specificity: 1.0 \n",
      "F1_score: 0.932\n"
     ]
    }
   ],
   "source": [
    "confusion_matrix = metrics.confusion_matrix(wbcd_test_labels, wbcd_test_pred)\n",
    "confusion_matrix_dis(confusion_matrix)\n",
    "metricsValues(wbcd_test_labels, wbcd_test_pred)"
   ]
  },
  {
   "cell_type": "markdown",
   "id": "d20148a8-5270-4020-81b9-578da62f3ac9",
   "metadata": {},
   "source": [
    "## b. Approach 2: Sensitivity analysis for k"
   ]
  },
  {
   "cell_type": "code",
   "execution_count": 193,
   "id": "d2f51d5e-a3eb-4d8e-a0e4-d9466b76dd9d",
   "metadata": {},
   "outputs": [
    {
     "name": "stdout",
     "output_type": "stream",
     "text": [
      "k =  1\n"
     ]
    },
    {
     "data": {
      "image/png": "[encoded data removed]",
      "text/plain": [
       "<Figure size 432x288 with 2 Axes>"
      ]
     },
     "metadata": {
      "needs_background": "light"
     },
     "output_type": "display_data"
    },
    {
     "name": "stdout",
     "output_type": "stream",
     "text": [
      "Accuracy: 0.96 \n",
      "Precision: 0.927 \n",
      "Sensitivity: 0.974 \n",
      "Specificity: 0.95 \n",
      "F1_score: 0.95\n",
      "**************************************************\n",
      "k =  5\n"
     ]
    },
    {
     "data": {
      "image/png": "[encoded data removed]",
      "text/plain": [
       "<Figure size 432x288 with 2 Axes>"
      ]
     },
     "metadata": {
      "needs_background": "light"
     },
     "output_type": "display_data"
    },
    {
     "name": "stdout",
     "output_type": "stream",
     "text": [
      "Accuracy: 0.98 \n",
      "Precision: 1.0 \n",
      "Sensitivity: 0.949 \n",
      "Specificity: 1.0 \n",
      "F1_score: 0.974\n",
      "**************************************************\n",
      "k =  11\n"
     ]
    },
    {
     "data": {
      "image/png": "[encoded data removed]",
      "text/plain": [
       "<Figure size 432x288 with 2 Axes>"
      ]
     },
     "metadata": {
      "needs_background": "light"
     },
     "output_type": "display_data"
    },
    {
     "name": "stdout",
     "output_type": "stream",
     "text": [
      "Accuracy: 0.97 \n",
      "Precision: 1.0 \n",
      "Sensitivity: 0.923 \n",
      "Specificity: 1.0 \n",
      "F1_score: 0.96\n",
      "**************************************************\n",
      "k =  15\n"
     ]
    },
    {
     "data": {
      "image/png": "[encoded data removed]",
      "text/plain": [
       "<Figure size 432x288 with 2 Axes>"
      ]
     },
     "metadata": {
      "needs_background": "light"
     },
     "output_type": "display_data"
    },
    {
     "name": "stdout",
     "output_type": "stream",
     "text": [
      "Accuracy: 0.97 \n",
      "Precision: 1.0 \n",
      "Sensitivity: 0.923 \n",
      "Specificity: 1.0 \n",
      "F1_score: 0.96\n",
      "**************************************************\n",
      "k =  21\n"
     ]
    },
    {
     "data": {
      "image/png": "[encoded data removed]",
      "text/plain": [
       "<Figure size 432x288 with 2 Axes>"
      ]
     },
     "metadata": {
      "needs_background": "light"
     },
     "output_type": "display_data"
    },
    {
     "name": "stdout",
     "output_type": "stream",
     "text": [
      "Accuracy: 0.98 \n",
      "Precision: 1.0 \n",
      "Sensitivity: 0.949 \n",
      "Specificity: 1.0 \n",
      "F1_score: 0.974\n",
      "**************************************************\n",
      "k =  27\n"
     ]
    },
    {
     "data": {
      "image/png": "[encoded data removed]",
      "text/plain": [
       "<Figure size 432x288 with 2 Axes>"
      ]
     },
     "metadata": {
      "needs_background": "light"
     },
     "output_type": "display_data"
    },
    {
     "name": "stdout",
     "output_type": "stream",
     "text": [
      "Accuracy: 0.96 \n",
      "Precision: 1.0 \n",
      "Sensitivity: 0.897 \n",
      "Specificity: 1.0 \n",
      "F1_score: 0.946\n",
      "**************************************************\n"
     ]
    }
   ],
   "source": [
    "# Set of k's to train/test\n",
    "kList = [1, 5, 11, 15, 21, 27]\n",
    "\n",
    "# Loop through all k's and display confusion matrix and metrics\n",
    "for k in kList:\n",
    "    knn = KNeighborsClassifier(n_neighbors=k)\n",
    "    # Using min-max normalized data\n",
    "    knn.fit(wbcd_train_n, wbcd_train_labels)\n",
    "    wbcd_test_pred = knn.predict(wbcd_test_n)\n",
    "    print(\"k = \", k)\n",
    "    confusion_matrix = metrics.confusion_matrix(wbcd_test_labels, wbcd_test_pred)\n",
    "    confusion_matrix_dis(confusion_matrix)\n",
    "    metricsValues(wbcd_test_labels, wbcd_test_pred)\n",
    "    print(\"**************************************************\")"
   ]
  },
  {
   "cell_type": "code",
   "execution_count": null,
   "id": "ce81553e-c980-4bac-8a2e-501abc3a142b",
   "metadata": {},
   "outputs": [],
   "source": []
  }
 ],
 "metadata": {
  "kernelspec": {
   "display_name": "homebrew-python",
   "language": "python",
   "name": "homebrew-python"
  },
  "language_info": {
   "codemirror_mode": {
    "name": "ipython",
    "version": 3
   },
   "file_extension": ".py",
   "mimetype": "text/x-python",
   "name": "python",
   "nbconvert_exporter": "python",
   "pygments_lexer": "ipython3",
   "version": "3.8.8"
  }
 },
 "nbformat": 4,
 "nbformat_minor": 5
}
